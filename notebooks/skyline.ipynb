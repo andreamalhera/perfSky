{
 "cells": [
  {
   "cell_type": "markdown",
   "metadata": {},
   "source": [
    "# Getting to know the Skyline"
   ]
  },
  {
   "cell_type": "code",
   "execution_count": 1,
   "metadata": {},
   "outputs": [],
   "source": [
    "%matplotlib widget\n",
    "\n",
    "#TODO: Get to know the skyline\n",
    "#      - Get more info about activities on skyline from Alin\n",
    "#      - Skyline peaks\n",
    "#      - Skyline Expectation Maximization\n",
    "#      - Shadow of skyline\n",
    "\n",
    "#XXX: Was bedeutet die Skyline?\n",
    "#XXX: Predict if activity on skyline? \n",
    "\n",
    "#Other \n",
    "#TODO: left align then split: For consistency purposes, and Seasons?, Delay affecting?, \n",
    "#TODO: Pseudonimize data for uni\n",
    "#TODO: Drifts?"
   ]
  },
  {
   "cell_type": "code",
   "execution_count": 2,
   "metadata": {},
   "outputs": [],
   "source": [
    "import pandas as pd\n",
    "import matplotlib.pyplot as plt\n",
    "import os"
   ]
  },
  {
   "cell_type": "code",
   "execution_count": 3,
   "metadata": {},
   "outputs": [],
   "source": [
    "import sys\n",
    "sys.path.append('..')"
   ]
  },
  {
   "cell_type": "code",
   "execution_count": 4,
   "metadata": {},
   "outputs": [],
   "source": [
    "from processmining.plot import point_transformer as pt"
   ]
  },
  {
   "cell_type": "code",
   "execution_count": 5,
   "metadata": {},
   "outputs": [
    {
     "name": "stdout",
     "output_type": "stream",
     "text": [
      "Preprocessing...  /usr/local/trustyou/home/andream/nfs/processmining/minilogs/daily//param_catts_daily.2019-09-.csv\n",
      "['param_catts_daily.2019-09-.csv']\n",
      "15711\n"
     ]
    },
    {
     "data": {
      "text/html": [
       "<div>\n",
       "<style scoped>\n",
       "    .dataframe tbody tr th:only-of-type {\n",
       "        vertical-align: middle;\n",
       "    }\n",
       "\n",
       "    .dataframe tbody tr th {\n",
       "        vertical-align: top;\n",
       "    }\n",
       "\n",
       "    .dataframe thead th {\n",
       "        text-align: right;\n",
       "    }\n",
       "</style>\n",
       "<table border=\"1\" class=\"dataframe\">\n",
       "  <thead>\n",
       "    <tr style=\"text-align: right;\">\n",
       "      <th></th>\n",
       "      <th>case</th>\n",
       "      <th>activity</th>\n",
       "      <th>start_time</th>\n",
       "      <th>end_time</th>\n",
       "    </tr>\n",
       "  </thead>\n",
       "  <tbody>\n",
       "    <tr>\n",
       "      <th>14463</th>\n",
       "      <td>daily.2019-09-01_09-29-01.csv</td>\n",
       "      <td>AllTasks</td>\n",
       "      <td>2019-09-01 09:29:23</td>\n",
       "      <td>2019-09-03 03:43:13</td>\n",
       "    </tr>\n",
       "    <tr>\n",
       "      <th>14468</th>\n",
       "      <td>daily.2019-09-01_09-29-01.csv</td>\n",
       "      <td>CrawlFeedTask</td>\n",
       "      <td>2019-09-01 09:42:15</td>\n",
       "      <td>2019-09-01 10:01:16</td>\n",
       "    </tr>\n",
       "    <tr>\n",
       "      <th>14467</th>\n",
       "      <td>daily.2019-09-01_09-29-01.csv</td>\n",
       "      <td>ProxySetupTask</td>\n",
       "      <td>2019-09-01 09:42:15</td>\n",
       "      <td>2019-09-01 09:54:13</td>\n",
       "    </tr>\n",
       "    <tr>\n",
       "      <th>14464</th>\n",
       "      <td>daily.2019-09-01_09-29-01.csv</td>\n",
       "      <td>DumpTask(target_filename=None)(chunk=prep)(sql...</td>\n",
       "      <td>2019-09-01 09:42:15</td>\n",
       "      <td>2019-09-01 09:43:44</td>\n",
       "    </tr>\n",
       "    <tr>\n",
       "      <th>14465</th>\n",
       "      <td>daily.2019-09-01_09-29-01.csv</td>\n",
       "      <td>DumpTask(target_filename=None)(chunk=prep)(sql...</td>\n",
       "      <td>2019-09-01 09:42:15</td>\n",
       "      <td>2019-09-01 10:09:02</td>\n",
       "    </tr>\n",
       "  </tbody>\n",
       "</table>\n",
       "</div>"
      ],
      "text/plain": [
       "                                case  \\\n",
       "14463  daily.2019-09-01_09-29-01.csv   \n",
       "14468  daily.2019-09-01_09-29-01.csv   \n",
       "14467  daily.2019-09-01_09-29-01.csv   \n",
       "14464  daily.2019-09-01_09-29-01.csv   \n",
       "14465  daily.2019-09-01_09-29-01.csv   \n",
       "\n",
       "                                                activity          start_time  \\\n",
       "14463                                           AllTasks 2019-09-01 09:29:23   \n",
       "14468                                      CrawlFeedTask 2019-09-01 09:42:15   \n",
       "14467                                     ProxySetupTask 2019-09-01 09:42:15   \n",
       "14464  DumpTask(target_filename=None)(chunk=prep)(sql... 2019-09-01 09:42:15   \n",
       "14465  DumpTask(target_filename=None)(chunk=prep)(sql... 2019-09-01 09:42:15   \n",
       "\n",
       "                 end_time  \n",
       "14463 2019-09-03 03:43:13  \n",
       "14468 2019-09-01 10:01:16  \n",
       "14467 2019-09-01 09:54:13  \n",
       "14464 2019-09-01 09:43:44  \n",
       "14465 2019-09-01 10:09:02  "
      ]
     },
     "execution_count": 5,
     "metadata": {},
     "output_type": "execute_result"
    }
   ],
   "source": [
    "csv_list = []\n",
    "appended = pd.DataFrame()\n",
    "#LUIGI_LOG_PATH='/usr/local/trustyou/home/andream/nfs/processmining/experiments'\n",
    "LUIGI_LOG_PATH = '/usr/local/trustyou/home/andream/nfs/processmining/minilogs/daily/'\n",
    "#LUIGI_LOG_PATH='/usr/local/trustyou/home/andream/git_tree/processmining/tests/data/'\n",
    "#LUIGI_LOG_PATH = '/usr/local/trustyou/home/andream/nfs/processmining/minilogs/table-precomp/logs/tch/'\n",
    "for filename in os.listdir(LUIGI_LOG_PATH):\n",
    "    #if filename.endswith('.csv') and filename.startswith('catts_2traces_7act_varDevBothTimes_varDurDev_running-example.csv'):\n",
    "    #if filename.endswith('.csv') and filename.startswith('catts_1trace_7act_v'):\n",
    "    #if filename.endswith('.csv') and filename.startswith('catts_1trace_7act_0dur_running-example.csv'):\n",
    "    #if filename.endswith('.csv') and filename.startswith('catts_1trace_7act_1dayDur_meets_running-example.csv'):\n",
    "    #if filename.endswith('.csv') and filename.startswith('catts_1trace_7act_meetsStarts'):\n",
    "    if filename.endswith('.csv') and filename.startswith('p'):\n",
    "        log_path = LUIGI_LOG_PATH+'/'+filename\n",
    "        csv_list.append(filename)\n",
    "        print('Preprocessing... ',log_path)\n",
    "        df = pd.read_csv(log_path, index_col=False)\n",
    "        appended = appended.append(df)\n",
    "\n",
    "#appended_df\n",
    "csv_list.sort()\n",
    "print(csv_list)\n",
    "\n",
    "filename = os.path.splitext(csv_list[0])[0]\n",
    "\n",
    "#appended_df.to_datetime(start_time, format=\"%Y-%m-%d:%H:%M:%S\").sort_values()\n",
    "appended['start_time'] = pd.to_datetime(appended['start_time'], format=\"%Y-%m-%d %H:%M:%S\").sort_values()\n",
    "appended['end_time'] = pd.to_datetime(appended['end_time'], format=\"%Y-%m-%d %H:%M:%S\").sort_values()\n",
    "appended = appended.sort_values(by=['start_time'], ascending=True)\n",
    "appended['case'] = appended.apply(lambda row: str(row['case']), axis=1)\n",
    "print(len(appended))\n",
    "appended.head()"
   ]
  },
  {
   "cell_type": "code",
   "execution_count": 6,
   "metadata": {},
   "outputs": [],
   "source": [
    "excluding = appended[appended['activity']!='AllTasks']\n",
    "#print(len(excluding))\n",
    "average_trace_activities = pt.get_data_selection_avgtrace(pt.get_relative_timestamps(excluding)).sort_values(by=['num_start'])['activity'].tolist()"
   ]
  },
  {
   "cell_type": "code",
   "execution_count": 7,
   "metadata": {},
   "outputs": [
    {
     "name": "stdout",
     "output_type": "stream",
     "text": [
      "253\n"
     ]
    }
   ],
   "source": [
    "print(len(average_trace_activities))\n",
    "#print('AllTasks' in average_trace_activities)"
   ]
  },
  {
   "cell_type": "code",
   "execution_count": 8,
   "metadata": {},
   "outputs": [
    {
     "name": "stdout",
     "output_type": "stream",
     "text": [
      "404  length of subset\n"
     ]
    }
   ],
   "source": [
    "pd.set_option('display.max_colwidth', None)\n",
    "\n",
    "index_used=[[0,31]]\n",
    "#index_used=[[0,31],[21,51],[41,71],[61,91],[81,111],[87,117],\n",
    "#            [101,119],[117,120],[118,122],[120,126],[123,156],\n",
    "#            [139,170],[141,171],[170,178],[175,216],[206,246],[216,256]]\n",
    "\n",
    "for indexes in index_used:\n",
    "    #subset = appended[appended['activity'].str.startswith('ExtractTask') & appended['case']]\n",
    "    subset = appended[appended['activity'].isin(average_trace_activities[indexes[0]:indexes[1]])]\n",
    "    #subset = appended[appended['activity'].isin(average_trace_activities[indexes[0]:indexes[1]]) & ~appended['activity'].str.startswith('ExtractTask(crawler=creepy-crawly)(chunk')]\n",
    "\n",
    "    output_prefix = LUIGI_LOG_PATH+'graphs/avgActSlideSplit/'+filename+'All_'+str(indexes[0])+'_'+str(indexes[1])+'act_'+str(len(subset))+'pts'\n",
    "    #print(output_prefix)\n",
    "\n",
    "    print(len(subset),' length of subset')\n",
    "    \n",
    "    #print(average_trace_activities[indexes[0]:indexes[1]])\n",
    "    #subset.head()\n",
    "    #subset= appended.copy()\n",
    "    #subset = appended[appended['case']=='daily.2019-09-01_09-29-01.csv']\n",
    "    #snippet = pt.plot_point_transformer_selection(subset, output_prefix)\n",
    "    #snippet.head()"
   ]
  },
  {
   "cell_type": "markdown",
   "metadata": {},
   "source": [
    "## What activities of a set of traces appear on the skyline? \n",
    "* How many activities are commonly in the skyline?\n",
    "* How many unique activities are commonly in the skyline?\n",
    "* What activities are commonly on the skyline? \n",
    "* What traces deviate? and why?\n",
    "* Frequent pattern mining for skyline activities? \n",
    "* Can we predict what activities will be on the skyline?"
   ]
  },
  {
   "cell_type": "code",
   "execution_count": 9,
   "metadata": {},
   "outputs": [
    {
     "name": "stdout",
     "output_type": "stream",
     "text": [
      "/usr/local/trustyou/home/andream/nfs/processmining/minilogs/daily/graphs/param_catts_daily.2019-09-\n",
      "404  length of subset\n"
     ]
    },
    {
     "data": {
      "text/html": [
       "<div>\n",
       "<style scoped>\n",
       "    .dataframe tbody tr th:only-of-type {\n",
       "        vertical-align: middle;\n",
       "    }\n",
       "\n",
       "    .dataframe tbody tr th {\n",
       "        vertical-align: top;\n",
       "    }\n",
       "\n",
       "    .dataframe thead th {\n",
       "        text-align: right;\n",
       "    }\n",
       "</style>\n",
       "<table border=\"1\" class=\"dataframe\">\n",
       "  <thead>\n",
       "    <tr style=\"text-align: right;\">\n",
       "      <th></th>\n",
       "      <th>case</th>\n",
       "      <th>activity</th>\n",
       "      <th>rel_start</th>\n",
       "      <th>rel_end</th>\n",
       "      <th>num_start</th>\n",
       "      <th>num_end</th>\n",
       "      <th>start_time</th>\n",
       "      <th>end_time</th>\n",
       "    </tr>\n",
       "  </thead>\n",
       "  <tbody>\n",
       "    <tr>\n",
       "      <th>0</th>\n",
       "      <td>daily.2019-09-01_09-29-01.csv</td>\n",
       "      <td>CrawlFeedTask</td>\n",
       "      <td>0:00:00</td>\n",
       "      <td>0:19:01</td>\n",
       "      <td>0.0</td>\n",
       "      <td>1141.0</td>\n",
       "      <td>2019-09-01 09:42:15</td>\n",
       "      <td>2019-09-01 10:01:16</td>\n",
       "    </tr>\n",
       "    <tr>\n",
       "      <th>60</th>\n",
       "      <td>daily.2019-09-01_09-29-01.csv</td>\n",
       "      <td>DumpTask(target_filename=None)(chunk=prep)(sql_filename=other_urls)</td>\n",
       "      <td>0:00:00</td>\n",
       "      <td>0:00:39</td>\n",
       "      <td>0.0</td>\n",
       "      <td>39.0</td>\n",
       "      <td>2019-09-01 09:42:15</td>\n",
       "      <td>2019-09-01 09:42:54</td>\n",
       "    </tr>\n",
       "    <tr>\n",
       "      <th>61</th>\n",
       "      <td>daily.2019-09-01_09-29-01.csv</td>\n",
       "      <td>DumpTask(target_filename=None)(chunk=prep)(sql_filename=regular_urls)</td>\n",
       "      <td>0:00:00</td>\n",
       "      <td>0:26:47</td>\n",
       "      <td>0.0</td>\n",
       "      <td>1607.0</td>\n",
       "      <td>2019-09-01 09:42:15</td>\n",
       "      <td>2019-09-01 10:09:02</td>\n",
       "    </tr>\n",
       "    <tr>\n",
       "      <th>62</th>\n",
       "      <td>daily.2019-09-01_09-29-01.csv</td>\n",
       "      <td>DumpTask(target_filename=None)(chunk=prep)(sql_filename=daily_urls)</td>\n",
       "      <td>0:00:00</td>\n",
       "      <td>0:01:29</td>\n",
       "      <td>0.0</td>\n",
       "      <td>89.0</td>\n",
       "      <td>2019-09-01 09:42:15</td>\n",
       "      <td>2019-09-01 09:43:44</td>\n",
       "    </tr>\n",
       "    <tr>\n",
       "      <th>63</th>\n",
       "      <td>daily.2019-09-01_09-29-01.csv</td>\n",
       "      <td>ProxySetupTask</td>\n",
       "      <td>0:00:00</td>\n",
       "      <td>0:11:58</td>\n",
       "      <td>0.0</td>\n",
       "      <td>718.0</td>\n",
       "      <td>2019-09-01 09:42:15</td>\n",
       "      <td>2019-09-01 09:54:13</td>\n",
       "    </tr>\n",
       "  </tbody>\n",
       "</table>\n",
       "</div>"
      ],
      "text/plain": [
       "                             case  \\\n",
       "0   daily.2019-09-01_09-29-01.csv   \n",
       "60  daily.2019-09-01_09-29-01.csv   \n",
       "61  daily.2019-09-01_09-29-01.csv   \n",
       "62  daily.2019-09-01_09-29-01.csv   \n",
       "63  daily.2019-09-01_09-29-01.csv   \n",
       "\n",
       "                                                                 activity  \\\n",
       "0                                                           CrawlFeedTask   \n",
       "60    DumpTask(target_filename=None)(chunk=prep)(sql_filename=other_urls)   \n",
       "61  DumpTask(target_filename=None)(chunk=prep)(sql_filename=regular_urls)   \n",
       "62    DumpTask(target_filename=None)(chunk=prep)(sql_filename=daily_urls)   \n",
       "63                                                         ProxySetupTask   \n",
       "\n",
       "   rel_start  rel_end  num_start  num_end          start_time  \\\n",
       "0    0:00:00  0:19:01        0.0   1141.0 2019-09-01 09:42:15   \n",
       "60   0:00:00  0:00:39        0.0     39.0 2019-09-01 09:42:15   \n",
       "61   0:00:00  0:26:47        0.0   1607.0 2019-09-01 09:42:15   \n",
       "62   0:00:00  0:01:29        0.0     89.0 2019-09-01 09:42:15   \n",
       "63   0:00:00  0:11:58        0.0    718.0 2019-09-01 09:42:15   \n",
       "\n",
       "              end_time  \n",
       "0  2019-09-01 10:01:16  \n",
       "60 2019-09-01 09:42:54  \n",
       "61 2019-09-01 10:09:02  \n",
       "62 2019-09-01 09:43:44  \n",
       "63 2019-09-01 09:54:13  "
      ]
     },
     "execution_count": 9,
     "metadata": {},
     "output_type": "execute_result"
    }
   ],
   "source": [
    "#subset = appended.copy()\n",
    "#subset = appended[appended['activity'].str.startswith('CrawlTask')].head(1000)\n",
    "#print(subset['activity'][0])\n",
    "\n",
    "output_prefix = LUIGI_LOG_PATH+'graphs/'+filename\n",
    "print(output_prefix)\n",
    "#snippet = pt.plot_point_transformer_selection(subset, output_prefix)\n",
    "subset = pt.get_relative_timestamps(subset, ['AllTasks'])\n",
    "print(len(subset),' length of subset')\n",
    "subset.head()"
   ]
  },
  {
   "cell_type": "code",
   "execution_count": 10,
   "metadata": {},
   "outputs": [
    {
     "name": "stdout",
     "output_type": "stream",
     "text": [
      "15708  points in total\n",
      "2883 points on the skylines\n",
      "2854 unique activities on the skylines\n"
     ]
    }
   ],
   "source": [
    "subset = appended.copy()\n",
    "subset = pt.get_relative_timestamps(subset, ['AllTasks'])\n",
    "print(len(subset),' points in total')\n",
    "skyline_points = pt.get_skyline_points(subset)\n",
    "print(len(skyline_points), 'points on the skylines')\n",
    "representative = skyline_points[['case','activity']].drop_duplicates()\n",
    "print(len(representative), 'unique activities on the skylines')"
   ]
  },
  {
   "cell_type": "code",
   "execution_count": 31,
   "metadata": {},
   "outputs": [
    {
     "data": {
      "application/vnd.jupyter.widget-view+json": {
       "model_id": "",
       "version_major": 2,
       "version_minor": 0
      },
      "text/plain": [
       "Canvas(toolbar=Toolbar(toolitems=[('Home', 'Reset original view', 'home', 'home'), ('Back', 'Back to previous …"
      ]
     },
     "metadata": {},
     "output_type": "display_data"
    },
    {
     "data": {
      "text/plain": [
       "<matplotlib.axes._subplots.AxesSubplot at 0x7f0e8a793220>"
      ]
     },
     "execution_count": 31,
     "metadata": {},
     "output_type": "execute_result"
    }
   ],
   "source": [
    "all_by_case = subset.groupby('case').size().reset_index(name='total_points_in_case').sort_values(by=['total_points_in_case'], ascending=False)\n",
    "skyline_by_case = skyline_points.groupby('case').size().reset_index(name='skyline_points_in_case').sort_values(by=['skyline_points_in_case'], ascending=False)\n",
    "r_by_case = representative.groupby('case').size().reset_index(name='unique_skyline_activities_in_case').sort_values(by=['unique_skyline_activities_in_case'], ascending=False)\n",
    "by_case = r_by_case.merge(skyline_by_case, on='case')\n",
    "all_by_case.plot.hist(bins=8, alpha=0.5)"
   ]
  },
  {
   "cell_type": "code",
   "execution_count": 24,
   "metadata": {},
   "outputs": [
    {
     "data": {
      "application/vnd.jupyter.widget-view+json": {
       "model_id": "",
       "version_major": 2,
       "version_minor": 0
      },
      "text/plain": [
       "Canvas(toolbar=Toolbar(toolitems=[('Home', 'Reset original view', 'home', 'home'), ('Back', 'Back to previous …"
      ]
     },
     "metadata": {},
     "output_type": "display_data"
    },
    {
     "data": {
      "text/plain": [
       "<matplotlib.axes._subplots.AxesSubplot at 0x7f0e8b2374c0>"
      ]
     },
     "execution_count": 24,
     "metadata": {},
     "output_type": "execute_result"
    }
   ],
   "source": [
    "by_case.plot.hist(bins=11, alpha=0.5)"
   ]
  },
  {
   "cell_type": "code",
   "execution_count": 13,
   "metadata": {},
   "outputs": [
    {
     "data": {
      "text/html": [
       "<div>\n",
       "<style scoped>\n",
       "    .dataframe tbody tr th:only-of-type {\n",
       "        vertical-align: middle;\n",
       "    }\n",
       "\n",
       "    .dataframe tbody tr th {\n",
       "        vertical-align: top;\n",
       "    }\n",
       "\n",
       "    .dataframe thead th {\n",
       "        text-align: right;\n",
       "    }\n",
       "</style>\n",
       "<table border=\"1\" class=\"dataframe\">\n",
       "  <thead>\n",
       "    <tr style=\"text-align: right;\">\n",
       "      <th></th>\n",
       "      <th>case</th>\n",
       "      <th>total_points_in_case</th>\n",
       "      <th>skyline_points_in_case</th>\n",
       "      <th>unique_skyline_activities_in_case</th>\n",
       "    </tr>\n",
       "  </thead>\n",
       "  <tbody>\n",
       "    <tr>\n",
       "      <th>7</th>\n",
       "      <td>daily.2019-09-22_07-40-01.csv</td>\n",
       "      <td>1252</td>\n",
       "      <td>253</td>\n",
       "      <td>253</td>\n",
       "    </tr>\n",
       "    <tr>\n",
       "      <th>5</th>\n",
       "      <td>daily.2019-09-18_14-08-01.csv</td>\n",
       "      <td>1251</td>\n",
       "      <td>253</td>\n",
       "      <td>253</td>\n",
       "    </tr>\n",
       "    <tr>\n",
       "      <th>9</th>\n",
       "      <td>daily.2019-09-04_23-23-01.csv</td>\n",
       "      <td>1251</td>\n",
       "      <td>231</td>\n",
       "      <td>231</td>\n",
       "    </tr>\n",
       "    <tr>\n",
       "      <th>1</th>\n",
       "      <td>daily.2019-09-11_05-40-02.csv</td>\n",
       "      <td>1249</td>\n",
       "      <td>253</td>\n",
       "      <td>253</td>\n",
       "    </tr>\n",
       "    <tr>\n",
       "      <th>6</th>\n",
       "      <td>daily.2019-09-20_12-49-01.csv</td>\n",
       "      <td>1249</td>\n",
       "      <td>253</td>\n",
       "      <td>253</td>\n",
       "    </tr>\n",
       "    <tr>\n",
       "      <th>3</th>\n",
       "      <td>daily.2019-09-15_01-41-01.csv</td>\n",
       "      <td>1248</td>\n",
       "      <td>253</td>\n",
       "      <td>253</td>\n",
       "    </tr>\n",
       "    <tr>\n",
       "      <th>2</th>\n",
       "      <td>daily.2019-09-13_04-11-01.csv</td>\n",
       "      <td>1247</td>\n",
       "      <td>253</td>\n",
       "      <td>253</td>\n",
       "    </tr>\n",
       "    <tr>\n",
       "      <th>4</th>\n",
       "      <td>daily.2019-09-16_19-44-01.csv</td>\n",
       "      <td>1247</td>\n",
       "      <td>253</td>\n",
       "      <td>253</td>\n",
       "    </tr>\n",
       "    <tr>\n",
       "      <th>8</th>\n",
       "      <td>daily.2019-09-03_03-44-01.csv</td>\n",
       "      <td>1247</td>\n",
       "      <td>231</td>\n",
       "      <td>231</td>\n",
       "    </tr>\n",
       "    <tr>\n",
       "      <th>10</th>\n",
       "      <td>daily.2019-09-06_20-34-01.csv</td>\n",
       "      <td>1247</td>\n",
       "      <td>211</td>\n",
       "      <td>210</td>\n",
       "    </tr>\n",
       "    <tr>\n",
       "      <th>12</th>\n",
       "      <td>daily.2019-09-01_09-29-01.csv</td>\n",
       "      <td>1247</td>\n",
       "      <td>52</td>\n",
       "      <td>24</td>\n",
       "    </tr>\n",
       "    <tr>\n",
       "      <th>0</th>\n",
       "      <td>daily.2019-09-09_01-34-02.csv</td>\n",
       "      <td>1231</td>\n",
       "      <td>253</td>\n",
       "      <td>253</td>\n",
       "    </tr>\n",
       "    <tr>\n",
       "      <th>11</th>\n",
       "      <td>daily.2019-09-24_05-05-02.csv</td>\n",
       "      <td>742</td>\n",
       "      <td>134</td>\n",
       "      <td>134</td>\n",
       "    </tr>\n",
       "  </tbody>\n",
       "</table>\n",
       "</div>"
      ],
      "text/plain": [
       "                             case  total_points_in_case  \\\n",
       "7   daily.2019-09-22_07-40-01.csv                  1252   \n",
       "5   daily.2019-09-18_14-08-01.csv                  1251   \n",
       "9   daily.2019-09-04_23-23-01.csv                  1251   \n",
       "1   daily.2019-09-11_05-40-02.csv                  1249   \n",
       "6   daily.2019-09-20_12-49-01.csv                  1249   \n",
       "3   daily.2019-09-15_01-41-01.csv                  1248   \n",
       "2   daily.2019-09-13_04-11-01.csv                  1247   \n",
       "4   daily.2019-09-16_19-44-01.csv                  1247   \n",
       "8   daily.2019-09-03_03-44-01.csv                  1247   \n",
       "10  daily.2019-09-06_20-34-01.csv                  1247   \n",
       "12  daily.2019-09-01_09-29-01.csv                  1247   \n",
       "0   daily.2019-09-09_01-34-02.csv                  1231   \n",
       "11  daily.2019-09-24_05-05-02.csv                   742   \n",
       "\n",
       "    skyline_points_in_case  unique_skyline_activities_in_case  \n",
       "7                      253                                253  \n",
       "5                      253                                253  \n",
       "9                      231                                231  \n",
       "1                      253                                253  \n",
       "6                      253                                253  \n",
       "3                      253                                253  \n",
       "2                      253                                253  \n",
       "4                      253                                253  \n",
       "8                      231                                231  \n",
       "10                     211                                210  \n",
       "12                      52                                 24  \n",
       "0                      253                                253  \n",
       "11                     134                                134  "
      ]
     },
     "execution_count": 13,
     "metadata": {},
     "output_type": "execute_result"
    }
   ],
   "source": [
    "by_case.merge(all_by_case)[['case','total_points_in_case','skyline_points_in_case', 'unique_skyline_activities_in_case']].sort_values(by=['total_points_in_case'], ascending=False)\n"
   ]
  },
  {
   "cell_type": "code",
   "execution_count": 41,
   "metadata": {},
   "outputs": [
    {
     "data": {
      "application/vnd.jupyter.widget-view+json": {
       "model_id": "",
       "version_major": 2,
       "version_minor": 0
      },
      "text/plain": [
       "Canvas(toolbar=Toolbar(toolitems=[('Home', 'Reset original view', 'home', 'home'), ('Back', 'Back to previous …"
      ]
     },
     "metadata": {},
     "output_type": "display_data"
    },
    {
     "data": {
      "text/plain": [
       "<matplotlib.axes._subplots.AxesSubplot at 0x7f0e8a34f8e0>"
      ]
     },
     "execution_count": 41,
     "metadata": {},
     "output_type": "execute_result"
    }
   ],
   "source": [
    "all_by_activity = subset.groupby('activity').size().reset_index(name='total_points_in_activity').sort_values(by=['total_points_in_activity'], ascending=False)\n",
    "skyline_by_activity = skyline_points.groupby('activity').size().reset_index(name='skyline_points_in_activity').sort_values(by=['skyline_points_in_activity'], ascending=False)\n",
    "r_by_activity = representative.groupby('activity').size().reset_index(name='unique_cases_in_skyline_activity').sort_values(by=['unique_cases_in_skyline_activity'], ascending=False)\n",
    "by_activity = r_by_activity.merge(skyline_by_activity, on='activity')\n",
    "#by_activity = by_activity.merge(all_by_activity, on='activity')\n",
    "all_by_activity.plot.hist(bins=16, alpha=0.5)"
   ]
  },
  {
   "cell_type": "code",
   "execution_count": 21,
   "metadata": {},
   "outputs": [
    {
     "data": {
      "application/vnd.jupyter.widget-view+json": {
       "model_id": "",
       "version_major": 2,
       "version_minor": 0
      },
      "text/plain": [
       "Canvas(toolbar=Toolbar(toolitems=[('Home', 'Reset original view', 'home', 'home'), ('Back', 'Back to previous …"
      ]
     },
     "metadata": {},
     "output_type": "display_data"
    },
    {
     "data": {
      "text/plain": [
       "<matplotlib.axes._subplots.AxesSubplot at 0x7f0e8a9e62b0>"
      ]
     },
     "execution_count": 21,
     "metadata": {},
     "output_type": "execute_result"
    }
   ],
   "source": [
    "by_activity.plot.hist(bins=25, alpha=0.5, )"
   ]
  },
  {
   "cell_type": "code",
   "execution_count": 16,
   "metadata": {},
   "outputs": [
    {
     "data": {
      "text/html": [
       "<div>\n",
       "<style scoped>\n",
       "    .dataframe tbody tr th:only-of-type {\n",
       "        vertical-align: middle;\n",
       "    }\n",
       "\n",
       "    .dataframe tbody tr th {\n",
       "        vertical-align: top;\n",
       "    }\n",
       "\n",
       "    .dataframe thead th {\n",
       "        text-align: right;\n",
       "    }\n",
       "</style>\n",
       "<table border=\"1\" class=\"dataframe\">\n",
       "  <thead>\n",
       "    <tr style=\"text-align: right;\">\n",
       "      <th></th>\n",
       "      <th>activity</th>\n",
       "      <th>total_points_in_activity</th>\n",
       "      <th>skyline_points_in_activity</th>\n",
       "      <th>unique_cases_in_skyline_activity</th>\n",
       "    </tr>\n",
       "  </thead>\n",
       "  <tbody>\n",
       "    <tr>\n",
       "      <th>5</th>\n",
       "      <td>CrawlTask(crawler=creepy-crawly)(chunk=01)</td>\n",
       "      <td>3126</td>\n",
       "      <td>25</td>\n",
       "      <td>13</td>\n",
       "    </tr>\n",
       "    <tr>\n",
       "      <th>8</th>\n",
       "      <td>ExtractTask(crawler=creepy-crawly)(chunk=01)</td>\n",
       "      <td>3120</td>\n",
       "      <td>16</td>\n",
       "      <td>13</td>\n",
       "    </tr>\n",
       "    <tr>\n",
       "      <th>9</th>\n",
       "      <td>ExtractTask(crawler=creepy-crawly)(chunk=03)</td>\n",
       "      <td>1747</td>\n",
       "      <td>17</td>\n",
       "      <td>13</td>\n",
       "    </tr>\n",
       "    <tr>\n",
       "      <th>4</th>\n",
       "      <td>CrawlTask(crawler=creepy-crawly)(chunk=03)</td>\n",
       "      <td>1727</td>\n",
       "      <td>20</td>\n",
       "      <td>13</td>\n",
       "    </tr>\n",
       "    <tr>\n",
       "      <th>185</th>\n",
       "      <td>ExtractTask(crawler=creepy-crawly)(chunk=02)</td>\n",
       "      <td>1443</td>\n",
       "      <td>11</td>\n",
       "      <td>11</td>\n",
       "    </tr>\n",
       "    <tr>\n",
       "      <th>...</th>\n",
       "      <td>...</td>\n",
       "      <td>...</td>\n",
       "      <td>...</td>\n",
       "      <td>...</td>\n",
       "    </tr>\n",
       "    <tr>\n",
       "      <th>170</th>\n",
       "      <td>StatsCrawlTask(chunk=03)</td>\n",
       "      <td>12</td>\n",
       "      <td>11</td>\n",
       "      <td>11</td>\n",
       "    </tr>\n",
       "    <tr>\n",
       "      <th>169</th>\n",
       "      <td>StripPIITask(chunk=01)</td>\n",
       "      <td>12</td>\n",
       "      <td>11</td>\n",
       "      <td>11</td>\n",
       "    </tr>\n",
       "    <tr>\n",
       "      <th>168</th>\n",
       "      <td>TokenizeTask(chunk=01)</td>\n",
       "      <td>12</td>\n",
       "      <td>11</td>\n",
       "      <td>11</td>\n",
       "    </tr>\n",
       "    <tr>\n",
       "      <th>167</th>\n",
       "      <td>UpdateDBTask(chunk=01)</td>\n",
       "      <td>12</td>\n",
       "      <td>11</td>\n",
       "      <td>11</td>\n",
       "    </tr>\n",
       "    <tr>\n",
       "      <th>252</th>\n",
       "      <td>UserDemographicsIncUpdateCQLTask(chunk=03)</td>\n",
       "      <td>12</td>\n",
       "      <td>8</td>\n",
       "      <td>8</td>\n",
       "    </tr>\n",
       "  </tbody>\n",
       "</table>\n",
       "<p>253 rows × 4 columns</p>\n",
       "</div>"
      ],
      "text/plain": [
       "                                         activity  total_points_in_activity  \\\n",
       "5      CrawlTask(crawler=creepy-crawly)(chunk=01)                      3126   \n",
       "8    ExtractTask(crawler=creepy-crawly)(chunk=01)                      3120   \n",
       "9    ExtractTask(crawler=creepy-crawly)(chunk=03)                      1747   \n",
       "4      CrawlTask(crawler=creepy-crawly)(chunk=03)                      1727   \n",
       "185  ExtractTask(crawler=creepy-crawly)(chunk=02)                      1443   \n",
       "..                                            ...                       ...   \n",
       "170                      StatsCrawlTask(chunk=03)                        12   \n",
       "169                        StripPIITask(chunk=01)                        12   \n",
       "168                        TokenizeTask(chunk=01)                        12   \n",
       "167                        UpdateDBTask(chunk=01)                        12   \n",
       "252    UserDemographicsIncUpdateCQLTask(chunk=03)                        12   \n",
       "\n",
       "     skyline_points_in_activity  unique_cases_in_skyline_activity  \n",
       "5                            25                                13  \n",
       "8                            16                                13  \n",
       "9                            17                                13  \n",
       "4                            20                                13  \n",
       "185                          11                                11  \n",
       "..                          ...                               ...  \n",
       "170                          11                                11  \n",
       "169                          11                                11  \n",
       "168                          11                                11  \n",
       "167                          11                                11  \n",
       "252                           8                                 8  \n",
       "\n",
       "[253 rows x 4 columns]"
      ]
     },
     "execution_count": 16,
     "metadata": {},
     "output_type": "execute_result"
    }
   ],
   "source": [
    "by_activity.merge(all_by_activity)[['activity','total_points_in_activity','skyline_points_in_activity', 'unique_cases_in_skyline_activity']].sort_values(by=['total_points_in_activity'], ascending=False)"
   ]
  },
  {
   "cell_type": "code",
   "execution_count": 44,
   "metadata": {},
   "outputs": [],
   "source": [
    "for figure in plt.get_fignums():\n",
    "    plt.close(figure)"
   ]
  },
  {
   "cell_type": "code",
   "execution_count": 45,
   "metadata": {},
   "outputs": [
    {
     "data": {
      "application/vnd.jupyter.widget-view+json": {
       "model_id": "",
       "version_major": 2,
       "version_minor": 0
      },
      "text/plain": [
       "Canvas(toolbar=Toolbar(toolitems=[('Home', 'Reset original view', 'home', 'home'), ('Back', 'Back to previous …"
      ]
     },
     "metadata": {},
     "output_type": "display_data"
    }
   ],
   "source": [
    "case_selection = ['daily.2019-09-24_05-05-02.csv', 'daily.2019-09-09_01-34-02.csv', 'daily.2019-09-01_09-29-01.csv']\n",
    "pt.plot_all_traces(snippet=subset[subset['case'].isin(case_selection)], draw_skylines=1)"
   ]
  },
  {
   "cell_type": "code",
   "execution_count": 13,
   "metadata": {},
   "outputs": [],
   "source": [
    "#pt.plot_all_traces(snippet=subset[subset['case']=='daily.2019-09-24_05-05-02.csv'], draw_skylines=1)"
   ]
  },
  {
   "cell_type": "code",
   "execution_count": 14,
   "metadata": {},
   "outputs": [],
   "source": [
    "pt.plot_all_traces(snippet=subset[subset['case']=='daily.2019-09-01_09-29-01.csv'], draw_skylines=1)\n"
   ]
  },
  {
   "cell_type": "code",
   "execution_count": 15,
   "metadata": {},
   "outputs": [
    {
     "name": "stdout",
     "output_type": "stream",
     "text": [
      "15708  length of subset\n",
      "2883 points on the skylines\n"
     ]
    },
    {
     "data": {
      "text/html": [
       "<div>\n",
       "<style scoped>\n",
       "    .dataframe tbody tr th:only-of-type {\n",
       "        vertical-align: middle;\n",
       "    }\n",
       "\n",
       "    .dataframe tbody tr th {\n",
       "        vertical-align: top;\n",
       "    }\n",
       "\n",
       "    .dataframe thead th {\n",
       "        text-align: right;\n",
       "    }\n",
       "</style>\n",
       "<table border=\"1\" class=\"dataframe\">\n",
       "  <thead>\n",
       "    <tr style=\"text-align: right;\">\n",
       "      <th></th>\n",
       "      <th>num_start</th>\n",
       "      <th>num_end</th>\n",
       "      <th>activity</th>\n",
       "      <th>case</th>\n",
       "    </tr>\n",
       "  </thead>\n",
       "  <tbody>\n",
       "    <tr>\n",
       "      <th>0</th>\n",
       "      <td>772.0</td>\n",
       "      <td>1913.0</td>\n",
       "      <td>CrawlFeedTask</td>\n",
       "      <td>daily.2019-09-01_09-29-01.csv</td>\n",
       "    </tr>\n",
       "    <tr>\n",
       "      <th>1</th>\n",
       "      <td>772.0</td>\n",
       "      <td>1913.0</td>\n",
       "      <td>DumpTask(target_filename=None)(chunk=prep)(sql_filename=other_urls)</td>\n",
       "      <td>daily.2019-09-01_09-29-01.csv</td>\n",
       "    </tr>\n",
       "    <tr>\n",
       "      <th>2</th>\n",
       "      <td>772.0</td>\n",
       "      <td>1913.0</td>\n",
       "      <td>DumpTask(target_filename=None)(chunk=prep)(sql_filename=daily_urls)</td>\n",
       "      <td>daily.2019-09-01_09-29-01.csv</td>\n",
       "    </tr>\n",
       "    <tr>\n",
       "      <th>3</th>\n",
       "      <td>772.0</td>\n",
       "      <td>2379.0</td>\n",
       "      <td>DumpTask(target_filename=None)(chunk=prep)(sql_filename=regular_urls)</td>\n",
       "      <td>daily.2019-09-01_09-29-01.csv</td>\n",
       "    </tr>\n",
       "    <tr>\n",
       "      <th>4</th>\n",
       "      <td>772.0</td>\n",
       "      <td>2379.0</td>\n",
       "      <td>ProxySetupTask</td>\n",
       "      <td>daily.2019-09-01_09-29-01.csv</td>\n",
       "    </tr>\n",
       "  </tbody>\n",
       "</table>\n",
       "</div>"
      ],
      "text/plain": [
       "   num_start  num_end  \\\n",
       "0  772.0      1913.0    \n",
       "1  772.0      1913.0    \n",
       "2  772.0      1913.0    \n",
       "3  772.0      2379.0    \n",
       "4  772.0      2379.0    \n",
       "\n",
       "                                                                activity  \\\n",
       "0  CrawlFeedTask                                                           \n",
       "1  DumpTask(target_filename=None)(chunk=prep)(sql_filename=other_urls)     \n",
       "2  DumpTask(target_filename=None)(chunk=prep)(sql_filename=daily_urls)     \n",
       "3  DumpTask(target_filename=None)(chunk=prep)(sql_filename=regular_urls)   \n",
       "4  ProxySetupTask                                                          \n",
       "\n",
       "                            case  \n",
       "0  daily.2019-09-01_09-29-01.csv  \n",
       "1  daily.2019-09-01_09-29-01.csv  \n",
       "2  daily.2019-09-01_09-29-01.csv  \n",
       "3  daily.2019-09-01_09-29-01.csv  \n",
       "4  daily.2019-09-01_09-29-01.csv  "
      ]
     },
     "execution_count": 15,
     "metadata": {},
     "output_type": "execute_result"
    }
   ],
   "source": [
    "print(len(subset),' length of subset')\n",
    "\n",
    "skyline_points = pt.get_skyline_points(subset)\n",
    "\n",
    "print(len(skyline_points), 'points on the skylines')\n",
    "skyline_points.head()"
   ]
  },
  {
   "cell_type": "code",
   "execution_count": 16,
   "metadata": {},
   "outputs": [
    {
     "data": {
      "text/plain": [
       "<matplotlib.axes._subplots.AxesSubplot at 0x7fcd05f352e8>"
      ]
     },
     "execution_count": 16,
     "metadata": {},
     "output_type": "execute_result"
    },
    {
     "data": {
      "image/png": "[encoded data removed]",
      "text/plain": [
       "<Figure size 432x288 with 1 Axes>"
      ]
     },
     "metadata": {},
     "output_type": "display_data"
    }
   ],
   "source": [
    "by_case = skyline_points.groupby('case').size().reset_index(name='counts').sort_values(by=['counts'], ascending=False)\n",
    "by_case.plot.hist()"
   ]
  },
  {
   "cell_type": "code",
   "execution_count": 17,
   "metadata": {},
   "outputs": [
    {
     "data": {
      "text/html": [
       "<div>\n",
       "<style scoped>\n",
       "    .dataframe tbody tr th:only-of-type {\n",
       "        vertical-align: middle;\n",
       "    }\n",
       "\n",
       "    .dataframe tbody tr th {\n",
       "        vertical-align: top;\n",
       "    }\n",
       "\n",
       "    .dataframe thead th {\n",
       "        text-align: right;\n",
       "    }\n",
       "</style>\n",
       "<table border=\"1\" class=\"dataframe\">\n",
       "  <thead>\n",
       "    <tr style=\"text-align: right;\">\n",
       "      <th></th>\n",
       "      <th>case</th>\n",
       "      <th>counts</th>\n",
       "    </tr>\n",
       "  </thead>\n",
       "  <tbody>\n",
       "    <tr>\n",
       "      <th>4</th>\n",
       "      <td>daily.2019-09-09_01-34-02.csv</td>\n",
       "      <td>253</td>\n",
       "    </tr>\n",
       "    <tr>\n",
       "      <th>5</th>\n",
       "      <td>daily.2019-09-11_05-40-02.csv</td>\n",
       "      <td>253</td>\n",
       "    </tr>\n",
       "    <tr>\n",
       "      <th>6</th>\n",
       "      <td>daily.2019-09-13_04-11-01.csv</td>\n",
       "      <td>253</td>\n",
       "    </tr>\n",
       "    <tr>\n",
       "      <th>7</th>\n",
       "      <td>daily.2019-09-15_01-41-01.csv</td>\n",
       "      <td>253</td>\n",
       "    </tr>\n",
       "    <tr>\n",
       "      <th>8</th>\n",
       "      <td>daily.2019-09-16_19-44-01.csv</td>\n",
       "      <td>253</td>\n",
       "    </tr>\n",
       "    <tr>\n",
       "      <th>9</th>\n",
       "      <td>daily.2019-09-18_14-08-01.csv</td>\n",
       "      <td>253</td>\n",
       "    </tr>\n",
       "    <tr>\n",
       "      <th>10</th>\n",
       "      <td>daily.2019-09-20_12-49-01.csv</td>\n",
       "      <td>253</td>\n",
       "    </tr>\n",
       "    <tr>\n",
       "      <th>11</th>\n",
       "      <td>daily.2019-09-22_07-40-01.csv</td>\n",
       "      <td>253</td>\n",
       "    </tr>\n",
       "    <tr>\n",
       "      <th>1</th>\n",
       "      <td>daily.2019-09-03_03-44-01.csv</td>\n",
       "      <td>231</td>\n",
       "    </tr>\n",
       "    <tr>\n",
       "      <th>2</th>\n",
       "      <td>daily.2019-09-04_23-23-01.csv</td>\n",
       "      <td>231</td>\n",
       "    </tr>\n",
       "    <tr>\n",
       "      <th>3</th>\n",
       "      <td>daily.2019-09-06_20-34-01.csv</td>\n",
       "      <td>211</td>\n",
       "    </tr>\n",
       "    <tr>\n",
       "      <th>12</th>\n",
       "      <td>daily.2019-09-24_05-05-02.csv</td>\n",
       "      <td>134</td>\n",
       "    </tr>\n",
       "    <tr>\n",
       "      <th>0</th>\n",
       "      <td>daily.2019-09-01_09-29-01.csv</td>\n",
       "      <td>52</td>\n",
       "    </tr>\n",
       "  </tbody>\n",
       "</table>\n",
       "</div>"
      ],
      "text/plain": [
       "                             case  counts\n",
       "4   daily.2019-09-09_01-34-02.csv  253   \n",
       "5   daily.2019-09-11_05-40-02.csv  253   \n",
       "6   daily.2019-09-13_04-11-01.csv  253   \n",
       "7   daily.2019-09-15_01-41-01.csv  253   \n",
       "8   daily.2019-09-16_19-44-01.csv  253   \n",
       "9   daily.2019-09-18_14-08-01.csv  253   \n",
       "10  daily.2019-09-20_12-49-01.csv  253   \n",
       "11  daily.2019-09-22_07-40-01.csv  253   \n",
       "1   daily.2019-09-03_03-44-01.csv  231   \n",
       "2   daily.2019-09-04_23-23-01.csv  231   \n",
       "3   daily.2019-09-06_20-34-01.csv  211   \n",
       "12  daily.2019-09-24_05-05-02.csv  134   \n",
       "0   daily.2019-09-01_09-29-01.csv  52    "
      ]
     },
     "execution_count": 17,
     "metadata": {},
     "output_type": "execute_result"
    }
   ],
   "source": [
    "by_case"
   ]
  },
  {
   "cell_type": "code",
   "execution_count": 18,
   "metadata": {},
   "outputs": [
    {
     "data": {
      "text/plain": [
       "<matplotlib.axes._subplots.AxesSubplot at 0x7fcd0b9aaeb8>"
      ]
     },
     "execution_count": 18,
     "metadata": {},
     "output_type": "execute_result"
    },
    {
     "data": {
      "image/png": "[encoded data removed]",
      "text/plain": [
       "<Figure size 432x288 with 1 Axes>"
      ]
     },
     "metadata": {},
     "output_type": "display_data"
    }
   ],
   "source": [
    "by_activity = skyline_points.groupby('activity').size().reset_index(name='counts').sort_values(by=['counts'], ascending=False)\n",
    "#print(by_activity)\n",
    "by_activity.plot.hist()"
   ]
  },
  {
   "cell_type": "code",
   "execution_count": 19,
   "metadata": {},
   "outputs": [
    {
     "data": {
      "text/html": [
       "<div>\n",
       "<style scoped>\n",
       "    .dataframe tbody tr th:only-of-type {\n",
       "        vertical-align: middle;\n",
       "    }\n",
       "\n",
       "    .dataframe tbody tr th {\n",
       "        vertical-align: top;\n",
       "    }\n",
       "\n",
       "    .dataframe thead th {\n",
       "        text-align: right;\n",
       "    }\n",
       "</style>\n",
       "<table border=\"1\" class=\"dataframe\">\n",
       "  <thead>\n",
       "    <tr style=\"text-align: right;\">\n",
       "      <th></th>\n",
       "      <th>activity</th>\n",
       "      <th>counts</th>\n",
       "    </tr>\n",
       "  </thead>\n",
       "  <tbody>\n",
       "    <tr>\n",
       "      <th>72</th>\n",
       "      <td>CrawlTask(crawler=creepy-crawly)(chunk=01)</td>\n",
       "      <td>25</td>\n",
       "    </tr>\n",
       "    <tr>\n",
       "      <th>74</th>\n",
       "      <td>CrawlTask(crawler=creepy-crawly)(chunk=03)</td>\n",
       "      <td>20</td>\n",
       "    </tr>\n",
       "    <tr>\n",
       "      <th>135</th>\n",
       "      <td>ExtractTask(crawler=creepy-crawly)(chunk=03)</td>\n",
       "      <td>17</td>\n",
       "    </tr>\n",
       "    <tr>\n",
       "      <th>133</th>\n",
       "      <td>ExtractTask(crawler=creepy-crawly)(chunk=01)</td>\n",
       "      <td>16</td>\n",
       "    </tr>\n",
       "    <tr>\n",
       "      <th>73</th>\n",
       "      <td>CrawlTask(crawler=creepy-crawly)(chunk=02)</td>\n",
       "      <td>15</td>\n",
       "    </tr>\n",
       "  </tbody>\n",
       "</table>\n",
       "</div>"
      ],
      "text/plain": [
       "                                         activity  counts\n",
       "72   CrawlTask(crawler=creepy-crawly)(chunk=01)    25    \n",
       "74   CrawlTask(crawler=creepy-crawly)(chunk=03)    20    \n",
       "135  ExtractTask(crawler=creepy-crawly)(chunk=03)  17    \n",
       "133  ExtractTask(crawler=creepy-crawly)(chunk=01)  16    \n",
       "73   CrawlTask(crawler=creepy-crawly)(chunk=02)    15    "
      ]
     },
     "execution_count": 19,
     "metadata": {},
     "output_type": "execute_result"
    }
   ],
   "source": [
    "by_activity.head()"
   ]
  },
  {
   "cell_type": "code",
   "execution_count": 20,
   "metadata": {},
   "outputs": [
    {
     "data": {
      "text/plain": [
       "<matplotlib.axes._subplots.AxesSubplot at 0x7f95429ab208>"
      ]
     },
     "execution_count": 20,
     "metadata": {},
     "output_type": "execute_result"
    },
    {
     "data": {
      "image/png": "[encoded data removed]",
      "text/plain": [
       "<Figure size 432x288 with 1 Axes>"
      ]
     },
     "metadata": {},
     "output_type": "display_data"
    }
   ],
   "source": [
    "representative = skyline_points[['case','activity']].drop_duplicates()\n",
    "r_by_activity = representative.groupby('activity').size().reset_index(name='counts').sort_values(by=['counts'], ascending=False)\n",
    "r_by_activity.plot.hist()"
   ]
  },
  {
   "cell_type": "code",
   "execution_count": 21,
   "metadata": {},
   "outputs": [
    {
     "data": {
      "text/html": [
       "<div>\n",
       "<style scoped>\n",
       "    .dataframe tbody tr th:only-of-type {\n",
       "        vertical-align: middle;\n",
       "    }\n",
       "\n",
       "    .dataframe tbody tr th {\n",
       "        vertical-align: top;\n",
       "    }\n",
       "\n",
       "    .dataframe thead th {\n",
       "        text-align: right;\n",
       "    }\n",
       "</style>\n",
       "<table border=\"1\" class=\"dataframe\">\n",
       "  <thead>\n",
       "    <tr style=\"text-align: right;\">\n",
       "      <th></th>\n",
       "      <th>activity</th>\n",
       "      <th>counts</th>\n",
       "    </tr>\n",
       "  </thead>\n",
       "  <tbody>\n",
       "    <tr>\n",
       "      <th>124</th>\n",
       "      <td>DumpTask(target_filename=review_2019_2)(chunk=prep)(sql_filename=review)</td>\n",
       "      <td>13</td>\n",
       "    </tr>\n",
       "    <tr>\n",
       "      <th>172</th>\n",
       "      <td>ProxySetupTask</td>\n",
       "      <td>13</td>\n",
       "    </tr>\n",
       "    <tr>\n",
       "      <th>87</th>\n",
       "      <td>DumpTask(target_filename=None)(chunk=prep)(sql_filename=other_urls)</td>\n",
       "      <td>13</td>\n",
       "    </tr>\n",
       "    <tr>\n",
       "      <th>88</th>\n",
       "      <td>DumpTask(target_filename=None)(chunk=prep)(sql_filename=regular_urls)</td>\n",
       "      <td>13</td>\n",
       "    </tr>\n",
       "    <tr>\n",
       "      <th>74</th>\n",
       "      <td>CrawlTask(crawler=creepy-crawly)(chunk=03)</td>\n",
       "      <td>13</td>\n",
       "    </tr>\n",
       "  </tbody>\n",
       "</table>\n",
       "</div>"
      ],
      "text/plain": [
       "                                                                     activity  \\\n",
       "124  DumpTask(target_filename=review_2019_2)(chunk=prep)(sql_filename=review)   \n",
       "172  ProxySetupTask                                                             \n",
       "87   DumpTask(target_filename=None)(chunk=prep)(sql_filename=other_urls)        \n",
       "88   DumpTask(target_filename=None)(chunk=prep)(sql_filename=regular_urls)      \n",
       "74   CrawlTask(crawler=creepy-crawly)(chunk=03)                                 \n",
       "\n",
       "     counts  \n",
       "124  13      \n",
       "172  13      \n",
       "87   13      \n",
       "88   13      \n",
       "74   13      "
      ]
     },
     "execution_count": 21,
     "metadata": {},
     "output_type": "execute_result"
    }
   ],
   "source": [
    "r_by_activity.head()"
   ]
  },
  {
   "cell_type": "code",
   "execution_count": 22,
   "metadata": {},
   "outputs": [
    {
     "data": {
      "text/plain": [
       "<matplotlib.axes._subplots.AxesSubplot at 0x7f954291f4e0>"
      ]
     },
     "execution_count": 22,
     "metadata": {},
     "output_type": "execute_result"
    },
    {
     "data": {
      "image/png": "[encoded data removed]",
      "text/plain": [
       "<Figure size 432x288 with 1 Axes>"
      ]
     },
     "metadata": {},
     "output_type": "display_data"
    }
   ],
   "source": [
    "r_by_case = representative.groupby('case').size().reset_index(name='counts').sort_values(by=['counts'], ascending=False)\n",
    "r_by_case.plot.hist()"
   ]
  },
  {
   "cell_type": "code",
   "execution_count": 23,
   "metadata": {},
   "outputs": [
    {
     "data": {
      "text/html": [
       "<div>\n",
       "<style scoped>\n",
       "    .dataframe tbody tr th:only-of-type {\n",
       "        vertical-align: middle;\n",
       "    }\n",
       "\n",
       "    .dataframe tbody tr th {\n",
       "        vertical-align: top;\n",
       "    }\n",
       "\n",
       "    .dataframe thead th {\n",
       "        text-align: right;\n",
       "    }\n",
       "</style>\n",
       "<table border=\"1\" class=\"dataframe\">\n",
       "  <thead>\n",
       "    <tr style=\"text-align: right;\">\n",
       "      <th></th>\n",
       "      <th>case</th>\n",
       "      <th>counts</th>\n",
       "    </tr>\n",
       "  </thead>\n",
       "  <tbody>\n",
       "    <tr>\n",
       "      <th>4</th>\n",
       "      <td>daily.2019-09-09_01-34-02.csv</td>\n",
       "      <td>253</td>\n",
       "    </tr>\n",
       "    <tr>\n",
       "      <th>5</th>\n",
       "      <td>daily.2019-09-11_05-40-02.csv</td>\n",
       "      <td>253</td>\n",
       "    </tr>\n",
       "    <tr>\n",
       "      <th>6</th>\n",
       "      <td>daily.2019-09-13_04-11-01.csv</td>\n",
       "      <td>253</td>\n",
       "    </tr>\n",
       "    <tr>\n",
       "      <th>7</th>\n",
       "      <td>daily.2019-09-15_01-41-01.csv</td>\n",
       "      <td>253</td>\n",
       "    </tr>\n",
       "    <tr>\n",
       "      <th>8</th>\n",
       "      <td>daily.2019-09-16_19-44-01.csv</td>\n",
       "      <td>253</td>\n",
       "    </tr>\n",
       "    <tr>\n",
       "      <th>9</th>\n",
       "      <td>daily.2019-09-18_14-08-01.csv</td>\n",
       "      <td>253</td>\n",
       "    </tr>\n",
       "    <tr>\n",
       "      <th>10</th>\n",
       "      <td>daily.2019-09-20_12-49-01.csv</td>\n",
       "      <td>253</td>\n",
       "    </tr>\n",
       "    <tr>\n",
       "      <th>11</th>\n",
       "      <td>daily.2019-09-22_07-40-01.csv</td>\n",
       "      <td>253</td>\n",
       "    </tr>\n",
       "    <tr>\n",
       "      <th>1</th>\n",
       "      <td>daily.2019-09-03_03-44-01.csv</td>\n",
       "      <td>231</td>\n",
       "    </tr>\n",
       "    <tr>\n",
       "      <th>2</th>\n",
       "      <td>daily.2019-09-04_23-23-01.csv</td>\n",
       "      <td>231</td>\n",
       "    </tr>\n",
       "    <tr>\n",
       "      <th>3</th>\n",
       "      <td>daily.2019-09-06_20-34-01.csv</td>\n",
       "      <td>210</td>\n",
       "    </tr>\n",
       "    <tr>\n",
       "      <th>12</th>\n",
       "      <td>daily.2019-09-24_05-05-02.csv</td>\n",
       "      <td>134</td>\n",
       "    </tr>\n",
       "    <tr>\n",
       "      <th>0</th>\n",
       "      <td>daily.2019-09-01_09-29-01.csv</td>\n",
       "      <td>24</td>\n",
       "    </tr>\n",
       "  </tbody>\n",
       "</table>\n",
       "</div>"
      ],
      "text/plain": [
       "                             case  counts\n",
       "4   daily.2019-09-09_01-34-02.csv  253   \n",
       "5   daily.2019-09-11_05-40-02.csv  253   \n",
       "6   daily.2019-09-13_04-11-01.csv  253   \n",
       "7   daily.2019-09-15_01-41-01.csv  253   \n",
       "8   daily.2019-09-16_19-44-01.csv  253   \n",
       "9   daily.2019-09-18_14-08-01.csv  253   \n",
       "10  daily.2019-09-20_12-49-01.csv  253   \n",
       "11  daily.2019-09-22_07-40-01.csv  253   \n",
       "1   daily.2019-09-03_03-44-01.csv  231   \n",
       "2   daily.2019-09-04_23-23-01.csv  231   \n",
       "3   daily.2019-09-06_20-34-01.csv  210   \n",
       "12  daily.2019-09-24_05-05-02.csv  134   \n",
       "0   daily.2019-09-01_09-29-01.csv  24    "
      ]
     },
     "execution_count": 23,
     "metadata": {},
     "output_type": "execute_result"
    }
   ],
   "source": [
    "r_by_case"
   ]
  },
  {
   "cell_type": "code",
   "execution_count": 24,
   "metadata": {},
   "outputs": [
    {
     "name": "stdout",
     "output_type": "stream",
     "text": [
      "\n",
      " 253 Activities appear in the skyline:\n"
     ]
    },
    {
     "data": {
      "text/html": [
       "<div>\n",
       "<style scoped>\n",
       "    .dataframe tbody tr th:only-of-type {\n",
       "        vertical-align: middle;\n",
       "    }\n",
       "\n",
       "    .dataframe tbody tr th {\n",
       "        vertical-align: top;\n",
       "    }\n",
       "\n",
       "    .dataframe thead th {\n",
       "        text-align: right;\n",
       "    }\n",
       "</style>\n",
       "<table border=\"1\" class=\"dataframe\">\n",
       "  <thead>\n",
       "    <tr style=\"text-align: right;\">\n",
       "      <th></th>\n",
       "      <th>activity</th>\n",
       "      <th>counts</th>\n",
       "    </tr>\n",
       "  </thead>\n",
       "  <tbody>\n",
       "    <tr>\n",
       "      <th>124</th>\n",
       "      <td>DumpTask(target_filename=review_2019_2)(chunk=prep)(sql_filename=review)</td>\n",
       "      <td>13</td>\n",
       "    </tr>\n",
       "    <tr>\n",
       "      <th>172</th>\n",
       "      <td>ProxySetupTask</td>\n",
       "      <td>13</td>\n",
       "    </tr>\n",
       "    <tr>\n",
       "      <th>87</th>\n",
       "      <td>DumpTask(target_filename=None)(chunk=prep)(sql_filename=other_urls)</td>\n",
       "      <td>13</td>\n",
       "    </tr>\n",
       "    <tr>\n",
       "      <th>88</th>\n",
       "      <td>DumpTask(target_filename=None)(chunk=prep)(sql_filename=regular_urls)</td>\n",
       "      <td>13</td>\n",
       "    </tr>\n",
       "    <tr>\n",
       "      <th>74</th>\n",
       "      <td>CrawlTask(crawler=creepy-crawly)(chunk=03)</td>\n",
       "      <td>13</td>\n",
       "    </tr>\n",
       "  </tbody>\n",
       "</table>\n",
       "</div>"
      ],
      "text/plain": [
       "                                                                     activity  \\\n",
       "124  DumpTask(target_filename=review_2019_2)(chunk=prep)(sql_filename=review)   \n",
       "172  ProxySetupTask                                                             \n",
       "87   DumpTask(target_filename=None)(chunk=prep)(sql_filename=other_urls)        \n",
       "88   DumpTask(target_filename=None)(chunk=prep)(sql_filename=regular_urls)      \n",
       "74   CrawlTask(crawler=creepy-crawly)(chunk=03)                                 \n",
       "\n",
       "     counts  \n",
       "124  13      \n",
       "172  13      \n",
       "87   13      \n",
       "88   13      \n",
       "74   13      "
      ]
     },
     "execution_count": 24,
     "metadata": {},
     "output_type": "execute_result"
    }
   ],
   "source": [
    "#print(len(skyline_points), 'points are part of skylines')\n",
    "unique_sk_activities = skyline_points['activity'].unique().tolist()\n",
    "#print(len(unique_sk_activities), 'activities in the skyline')\n",
    "skyline_points.groupby('case').size().reset_index(name='counts').sort_values(by=['counts'], ascending=False)\n",
    "\n",
    "activities=[]\n",
    "for i, case in enumerate(skyline_points['case'].unique()):\n",
    "    acts = skyline_points[skyline_points['case']==case]['activity'].unique().tolist()\n",
    "    activities.append(acts)\n",
    "    #print(case, len(acts))\n",
    "\n",
    "representative = skyline_points[['case','activity']].drop_duplicates()\n",
    "rep_appereances = representative.groupby(by = ['activity']).size().reset_index(name='counts').sort_values(by=['counts'], ascending=False)\n",
    "#rep_appereances = skyline_points.groupby(by = ['activity']).size().reset_index(name='counts').sort_values(by=['counts'], ascending=False)\n",
    "\n",
    "pd.set_option('display.max_rows', None)\n",
    "print('\\n',len(rep_appereances), 'Activities appear in the skyline:')\n",
    "rep_appereances.head()\n",
    "#rep_appereances[rep_appereances['counts']<13]\n",
    "\n",
    "#rep_appereances.groupby(by = ['counts']).size().reset_index(name='activities').sort_values(by=['counts'], ascending=False)"
   ]
  },
  {
   "cell_type": "code",
   "execution_count": null,
   "metadata": {},
   "outputs": [],
   "source": []
  }
 ],
 "metadata": {
  "kernelspec": {
   "display_name": "Python 3",
   "language": "python",
   "name": "python3"
  },
  "language_info": {
   "codemirror_mode": {
    "name": "ipython",
    "version": 3
   },
   "file_extension": ".py",
   "mimetype": "text/x-python",
   "name": "python",
   "nbconvert_exporter": "python",
   "pygments_lexer": "ipython3",
   "version": "3.8.1"
  }
 },
 "nbformat": 4,
 "nbformat_minor": 4
}
