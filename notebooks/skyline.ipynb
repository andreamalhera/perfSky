{
 "cells": [
  {
   "cell_type": "markdown",
   "metadata": {},
   "source": [
    "### Getting to know the Skyline\n",
    "#### What activities of a set of traces appear on the skyline? "
   ]
  },
  {
   "cell_type": "code",
   "execution_count": 1,
   "metadata": {},
   "outputs": [],
   "source": [
    "import pandas as pd\n",
    "import os"
   ]
  },
  {
   "cell_type": "code",
   "execution_count": 3,
   "metadata": {},
   "outputs": [],
   "source": [
    "import sys\n",
    "sys.path.append('..')"
   ]
  },
  {
   "cell_type": "code",
   "execution_count": 4,
   "metadata": {},
   "outputs": [],
   "source": [
    "from processmining.plot import point_transformer as pt"
   ]
  },
  {
   "cell_type": "code",
   "execution_count": 2,
   "metadata": {},
   "outputs": [
    {
     "name": "stdout",
     "output_type": "stream",
     "text": [
      "Preprocessing...  /usr/local/trustyou/home/andream/nfs/processmining/minilogs/daily//param_catts_daily.2019-09-.csv\n",
      "['param_catts_daily.2019-09-.csv']\n",
      "15711\n"
     ]
    },
    {
     "data": {
      "text/html": [
       "<div>\n",
       "<style scoped>\n",
       "    .dataframe tbody tr th:only-of-type {\n",
       "        vertical-align: middle;\n",
       "    }\n",
       "\n",
       "    .dataframe tbody tr th {\n",
       "        vertical-align: top;\n",
       "    }\n",
       "\n",
       "    .dataframe thead th {\n",
       "        text-align: right;\n",
       "    }\n",
       "</style>\n",
       "<table border=\"1\" class=\"dataframe\">\n",
       "  <thead>\n",
       "    <tr style=\"text-align: right;\">\n",
       "      <th></th>\n",
       "      <th>case</th>\n",
       "      <th>activity</th>\n",
       "      <th>start_time</th>\n",
       "      <th>end_time</th>\n",
       "    </tr>\n",
       "  </thead>\n",
       "  <tbody>\n",
       "    <tr>\n",
       "      <th>14463</th>\n",
       "      <td>daily.2019-09-01_09-29-01.csv</td>\n",
       "      <td>AllTasks</td>\n",
       "      <td>2019-09-01 09:29:23</td>\n",
       "      <td>2019-09-03 03:43:13</td>\n",
       "    </tr>\n",
       "    <tr>\n",
       "      <th>14468</th>\n",
       "      <td>daily.2019-09-01_09-29-01.csv</td>\n",
       "      <td>CrawlFeedTask</td>\n",
       "      <td>2019-09-01 09:42:15</td>\n",
       "      <td>2019-09-01 10:01:16</td>\n",
       "    </tr>\n",
       "    <tr>\n",
       "      <th>14467</th>\n",
       "      <td>daily.2019-09-01_09-29-01.csv</td>\n",
       "      <td>ProxySetupTask</td>\n",
       "      <td>2019-09-01 09:42:15</td>\n",
       "      <td>2019-09-01 09:54:13</td>\n",
       "    </tr>\n",
       "    <tr>\n",
       "      <th>14464</th>\n",
       "      <td>daily.2019-09-01_09-29-01.csv</td>\n",
       "      <td>DumpTask(target_filename=None)(chunk=prep)(sql...</td>\n",
       "      <td>2019-09-01 09:42:15</td>\n",
       "      <td>2019-09-01 09:43:44</td>\n",
       "    </tr>\n",
       "    <tr>\n",
       "      <th>14465</th>\n",
       "      <td>daily.2019-09-01_09-29-01.csv</td>\n",
       "      <td>DumpTask(target_filename=None)(chunk=prep)(sql...</td>\n",
       "      <td>2019-09-01 09:42:15</td>\n",
       "      <td>2019-09-01 10:09:02</td>\n",
       "    </tr>\n",
       "  </tbody>\n",
       "</table>\n",
       "</div>"
      ],
      "text/plain": [
       "                                case  \\\n",
       "14463  daily.2019-09-01_09-29-01.csv   \n",
       "14468  daily.2019-09-01_09-29-01.csv   \n",
       "14467  daily.2019-09-01_09-29-01.csv   \n",
       "14464  daily.2019-09-01_09-29-01.csv   \n",
       "14465  daily.2019-09-01_09-29-01.csv   \n",
       "\n",
       "                                                activity          start_time  \\\n",
       "14463                                           AllTasks 2019-09-01 09:29:23   \n",
       "14468                                      CrawlFeedTask 2019-09-01 09:42:15   \n",
       "14467                                     ProxySetupTask 2019-09-01 09:42:15   \n",
       "14464  DumpTask(target_filename=None)(chunk=prep)(sql... 2019-09-01 09:42:15   \n",
       "14465  DumpTask(target_filename=None)(chunk=prep)(sql... 2019-09-01 09:42:15   \n",
       "\n",
       "                 end_time  \n",
       "14463 2019-09-03 03:43:13  \n",
       "14468 2019-09-01 10:01:16  \n",
       "14467 2019-09-01 09:54:13  \n",
       "14464 2019-09-01 09:43:44  \n",
       "14465 2019-09-01 10:09:02  "
      ]
     },
     "execution_count": 2,
     "metadata": {},
     "output_type": "execute_result"
    }
   ],
   "source": [
    "csv_list = []\n",
    "appended = pd.DataFrame()\n",
    "#LUIGI_LOG_PATH='/usr/local/trustyou/home/andream/nfs/processmining/experiments'\n",
    "LUIGI_LOG_PATH = '/usr/local/trustyou/home/andream/nfs/processmining/minilogs/daily/'\n",
    "#LUIGI_LOG_PATH='/usr/local/trustyou/home/andream/git_tree/processmining/tests/data/'\n",
    "#LUIGI_LOG_PATH = '/usr/local/trustyou/home/andream/nfs/processmining/minilogs/table-precomp/logs/tch/'\n",
    "for filename in os.listdir(LUIGI_LOG_PATH):\n",
    "    #if filename.endswith('.csv') and filename.startswith('catts_2traces_7act_varDevBothTimes_varDurDev_running-example.csv'):\n",
    "    #if filename.endswith('.csv') and filename.startswith('catts_1trace_7act_v'):\n",
    "    #if filename.endswith('.csv') and filename.startswith('catts_1trace_7act_0dur_running-example.csv'):\n",
    "    #if filename.endswith('.csv') and filename.startswith('catts_1trace_7act_1dayDur_meets_running-example.csv'):\n",
    "    #if filename.endswith('.csv') and filename.startswith('catts_1trace_7act_meetsStarts'):\n",
    "    if filename.endswith('.csv') and filename.startswith('p'):\n",
    "        log_path = LUIGI_LOG_PATH+'/'+filename\n",
    "        csv_list.append(filename)\n",
    "        print('Preprocessing... ',log_path)\n",
    "        df = pd.read_csv(log_path, index_col=False)\n",
    "        appended = appended.append(df)\n",
    "\n",
    "#appended_df\n",
    "csv_list.sort()\n",
    "print(csv_list)\n",
    "\n",
    "filename = os.path.splitext(csv_list[0])[0]\n",
    "\n",
    "#appended_df.to_datetime(start_time, format=\"%Y-%m-%d:%H:%M:%S\").sort_values()\n",
    "appended['start_time'] = pd.to_datetime(appended['start_time'], format=\"%Y-%m-%d %H:%M:%S\").sort_values()\n",
    "appended['end_time'] = pd.to_datetime(appended['end_time'], format=\"%Y-%m-%d %H:%M:%S\").sort_values()\n",
    "appended = appended.sort_values(by=['start_time'], ascending=True)\n",
    "appended['case'] = appended.apply(lambda row: str(row['case']), axis=1)\n",
    "print(len(appended))\n",
    "appended.head()"
   ]
  },
  {
   "cell_type": "code",
   "execution_count": 5,
   "metadata": {},
   "outputs": [
    {
     "name": "stdout",
     "output_type": "stream",
     "text": [
      "15698 entries in input\n",
      "Grouped: 15698 columns ['case', 'activity', 'start_time', 'end_time', 'zero_point']\n",
      "Merged relatived: 15708 columns ['case', 'activity', 'start_time', 'end_time', 'zero_point']\n",
      "Exclusive:  15708 columns ['index', 'case', 'activity', 'start_time', 'end_time', 'zero_point', 'rel_start', 'rel_end', 'num_start', 'num_end']\n",
      "Relatived:  15708 columns ['case', 'activity', 'rel_start', 'rel_end', 'num_start', 'num_end', 'start_time', 'end_time']\n"
     ]
    }
   ],
   "source": [
    "excluding = appended[appended['activity']!='AllTasks']\n",
    "#print(len(excluding))\n",
    "average_trace_activities = pt.get_data_selection_avgtrace(pt.get_relative_timestamps(excluding)).sort_values(by=['num_start'])['activity'].tolist()"
   ]
  },
  {
   "cell_type": "code",
   "execution_count": 6,
   "metadata": {},
   "outputs": [
    {
     "name": "stdout",
     "output_type": "stream",
     "text": [
      "253\n"
     ]
    }
   ],
   "source": [
    "print(len(average_trace_activities))\n",
    "#print('AllTasks' in average_trace_activities)"
   ]
  },
  {
   "cell_type": "code",
   "execution_count": 7,
   "metadata": {},
   "outputs": [
    {
     "name": "stdout",
     "output_type": "stream",
     "text": [
      "15686  length of subset\n"
     ]
    }
   ],
   "source": [
    "pd.set_option('display.max_colwidth', -1)\n",
    "\n",
    "index_used=[[0,-1]]\n",
    "#index_used=[[0,31],[21,51],[41,71],[61,91],[81,111],[87,117],\n",
    "#            [101,119],[117,120],[118,122],[120,126],[123,156],\n",
    "#            [139,170],[141,171],[170,178],[175,216],[206,246],[216,256]]\n",
    "\n",
    "for indexes in index_used:\n",
    "    #subset = appended[appended['activity'].str.startswith('ExtractTask') & appended['case']]\n",
    "    subset = appended[appended['activity'].isin(average_trace_activities[indexes[0]:indexes[1]])]\n",
    "    #subset = appended[appended['activity'].isin(average_trace_activities[indexes[0]:indexes[1]]) & ~appended['activity'].str.startswith('ExtractTask(crawler=creepy-crawly)(chunk')]\n",
    "\n",
    "    output_prefix = LUIGI_LOG_PATH+'graphs/avgActSlideSplit/'+filename+'All_'+str(indexes[0])+'_'+str(indexes[1])+'act_'+str(len(subset))+'pts'\n",
    "    #print(output_prefix)\n",
    "\n",
    "    print(len(subset),' length of subset')\n",
    "    \n",
    "    #print(average_trace_activities[indexes[0]:indexes[1]])\n",
    "    #subset.head()\n",
    "    #subset= appended.copy()\n",
    "    #subset = appended[appended['case']=='daily.2019-09-01_09-29-01.csv']\n",
    "    #snippet = plot_point_transformer_selection(subset, output_prefix)\n",
    "    #snippet.head()"
   ]
  },
  {
   "cell_type": "code",
   "execution_count": 8,
   "metadata": {},
   "outputs": [],
   "source": [
    "import datetime\n",
    "\n",
    "def get_skyline_points(df):\n",
    "    #skyline = pd.DataFrame(columns=['x','y'])\n",
    "    df.sort_values(by=['num_start'])\n",
    "    max_x = []\n",
    "    max_y = []\n",
    "    activity = []\n",
    "    case = []\n",
    "    for i, e in enumerate(df['num_start']):\n",
    "        maxi = max(df['num_start'][0:i+1].values.tolist())\n",
    "        mayi = max(df['num_end'][0:i+1].values.tolist())\n",
    "        if maxi in df[df['num_end']==mayi]['num_start'].values:\n",
    "            max_x.append(maxi)\n",
    "            max_y.append(mayi)\n",
    "            activity.append(df['activity'][i])\n",
    "            case.append(df['case'][i])\n",
    "\n",
    "    skyline = pd.DataFrame({'num_start':max_x, 'num_end':max_y, 'activity': activity, 'case': case})\n",
    "    skyline = skyline.drop_duplicates().reset_index()[['num_start','num_end','activity','case']]\n",
    "\n",
    "    return skyline\n",
    "\n",
    "def get_zero_points(group):\n",
    "    group['zero_point'] = group['start_time'].min()\n",
    "    return group\n",
    "\n",
    "def get_duration(start_time, end_time):\n",
    "    start = datetime.datetime.strptime(start_time, '%Y-%m-%d %H:%M:%S')\n",
    "    end = datetime.datetime.strptime(end_time, '%Y-%m-%d %H:%M:%S')\n",
    "    duration = abs(end - start)\n",
    "    return duration\n",
    "#get_duration(ex['timestamp'][10],ex['timestamp'][1])\n",
    "\n",
    "def get_relative_timestamps(df):\n",
    "    relatived = df.copy()\n",
    "    #print('First timestamp in dataframe ', df['start_time'].min())\n",
    "    #print('Last timestamp in dataframe ',df['end_time'].max())\n",
    "    grouped = df.groupby(['case'])\n",
    "    grouped = grouped.apply(get_zero_points)\n",
    "    #print('Grouped:', len(grouped), 'columns', grouped.columns.tolist())\n",
    "\n",
    "    \n",
    "    relatived = pd.merge(grouped, relatived, on = ['case', 'activity', 'start_time', 'end_time'], how = 'inner') \n",
    "    #print('Merged relatived:', len(relatived), 'columns', relatived.columns.tolist())\n",
    "    \n",
    "    excluding = ['AllTasks']\n",
    "    relatived['rel_start'] = relatived.apply(lambda row: \n",
    "                                           str(get_duration(str(row['zero_point']),\n",
    "                                                            str(row['start_time']))), axis=1)\n",
    "    relatived['rel_end'] = relatived.apply(lambda row: \n",
    "                                           str(get_duration(str(row['zero_point']),\n",
    "                                                            str(row['end_time']))), axis=1)\n",
    "    \n",
    "    relatived['num_start']= list(pd.to_timedelta(relatived['rel_start'], errors=\"coerce\").dt.total_seconds ())\n",
    "    relatived['num_end']= list(pd.to_timedelta(relatived['rel_end'], errors=\"coerce\").dt.total_seconds ())\n",
    "\n",
    "    #relatived = relatived[['case', 'activity','rel_start', 'rel_end', 'num_start', 'num_end', 'start_time', 'end_time']]\n",
    "\n",
    "    relatived = relatived.sort_values(by=['num_start'], ascending=True)\n",
    "    relatived = relatived[~relatived['activity'].isin(excluding)].reset_index()\n",
    "    #print('Exclusive: ', len(relatived), 'columns', relatived.columns.tolist())\n",
    "\n",
    "    \n",
    "    relatived = relatived[['case','activity','rel_start','rel_end','num_start','num_end','start_time','end_time']].iloc[: , :]\n",
    "    #relatived = relatived.iloc[199:500 , :].reset_index()\n",
    "    relatived = relatived.sort_values(by=['case','num_start'], ascending=True)\n",
    "    #print('Relatived: ', len(relatived), 'columns', relatived.columns.tolist())\n",
    "    return relatived"
   ]
  },
  {
   "cell_type": "code",
   "execution_count": 13,
   "metadata": {},
   "outputs": [
    {
     "name": "stdout",
     "output_type": "stream",
     "text": [
      "15711  length of subset\n",
      "/usr/local/trustyou/home/andream/nfs/processmining/minilogs/daily/graphs/param_catts_daily.2019-09-\n",
      "15711 entries in input\n",
      "Grouped: 15711 columns ['case', 'activity', 'start_time', 'end_time', 'zero_point']\n",
      "Merged relatived: 15721 columns ['case', 'activity', 'start_time', 'end_time', 'zero_point']\n",
      "Exclusive:  15708 columns ['index', 'case', 'activity', 'start_time', 'end_time', 'zero_point', 'rel_start', 'rel_end', 'num_start', 'num_end']\n",
      "Relatived:  15708 columns ['case', 'activity', 'rel_start', 'rel_end', 'num_start', 'num_end', 'start_time', 'end_time']\n",
      "15708\n"
     ]
    },
    {
     "data": {
      "text/html": [
       "<div>\n",
       "<style scoped>\n",
       "    .dataframe tbody tr th:only-of-type {\n",
       "        vertical-align: middle;\n",
       "    }\n",
       "\n",
       "    .dataframe tbody tr th {\n",
       "        vertical-align: top;\n",
       "    }\n",
       "\n",
       "    .dataframe thead th {\n",
       "        text-align: right;\n",
       "    }\n",
       "</style>\n",
       "<table border=\"1\" class=\"dataframe\">\n",
       "  <thead>\n",
       "    <tr style=\"text-align: right;\">\n",
       "      <th></th>\n",
       "      <th>case</th>\n",
       "      <th>activity</th>\n",
       "      <th>rel_start</th>\n",
       "      <th>rel_end</th>\n",
       "      <th>num_start</th>\n",
       "      <th>num_end</th>\n",
       "      <th>start_time</th>\n",
       "      <th>end_time</th>\n",
       "    </tr>\n",
       "  </thead>\n",
       "  <tbody>\n",
       "    <tr>\n",
       "      <th>52</th>\n",
       "      <td>daily.2019-09-01_09-29-01.csv</td>\n",
       "      <td>CrawlFeedTask</td>\n",
       "      <td>0:12:52</td>\n",
       "      <td>0:31:53</td>\n",
       "      <td>772.0</td>\n",
       "      <td>1913.0</td>\n",
       "      <td>2019-09-01 09:42:15</td>\n",
       "      <td>2019-09-01 10:01:16</td>\n",
       "    </tr>\n",
       "    <tr>\n",
       "      <th>53</th>\n",
       "      <td>daily.2019-09-01_09-29-01.csv</td>\n",
       "      <td>DumpTask(target_filename=None)(chunk=prep)(sql_filename=other_urls)</td>\n",
       "      <td>0:12:52</td>\n",
       "      <td>0:13:31</td>\n",
       "      <td>772.0</td>\n",
       "      <td>811.0</td>\n",
       "      <td>2019-09-01 09:42:15</td>\n",
       "      <td>2019-09-01 09:42:54</td>\n",
       "    </tr>\n",
       "    <tr>\n",
       "      <th>54</th>\n",
       "      <td>daily.2019-09-01_09-29-01.csv</td>\n",
       "      <td>DumpTask(target_filename=None)(chunk=prep)(sql_filename=daily_urls)</td>\n",
       "      <td>0:12:52</td>\n",
       "      <td>0:14:21</td>\n",
       "      <td>772.0</td>\n",
       "      <td>861.0</td>\n",
       "      <td>2019-09-01 09:42:15</td>\n",
       "      <td>2019-09-01 09:43:44</td>\n",
       "    </tr>\n",
       "    <tr>\n",
       "      <th>55</th>\n",
       "      <td>daily.2019-09-01_09-29-01.csv</td>\n",
       "      <td>DumpTask(target_filename=None)(chunk=prep)(sql_filename=regular_urls)</td>\n",
       "      <td>0:12:52</td>\n",
       "      <td>0:39:39</td>\n",
       "      <td>772.0</td>\n",
       "      <td>2379.0</td>\n",
       "      <td>2019-09-01 09:42:15</td>\n",
       "      <td>2019-09-01 10:09:02</td>\n",
       "    </tr>\n",
       "    <tr>\n",
       "      <th>56</th>\n",
       "      <td>daily.2019-09-01_09-29-01.csv</td>\n",
       "      <td>ProxySetupTask</td>\n",
       "      <td>0:12:52</td>\n",
       "      <td>0:24:50</td>\n",
       "      <td>772.0</td>\n",
       "      <td>1490.0</td>\n",
       "      <td>2019-09-01 09:42:15</td>\n",
       "      <td>2019-09-01 09:54:13</td>\n",
       "    </tr>\n",
       "  </tbody>\n",
       "</table>\n",
       "</div>"
      ],
      "text/plain": [
       "                             case  \\\n",
       "52  daily.2019-09-01_09-29-01.csv   \n",
       "53  daily.2019-09-01_09-29-01.csv   \n",
       "54  daily.2019-09-01_09-29-01.csv   \n",
       "55  daily.2019-09-01_09-29-01.csv   \n",
       "56  daily.2019-09-01_09-29-01.csv   \n",
       "\n",
       "                                                                 activity  \\\n",
       "52  CrawlFeedTask                                                           \n",
       "53  DumpTask(target_filename=None)(chunk=prep)(sql_filename=other_urls)     \n",
       "54  DumpTask(target_filename=None)(chunk=prep)(sql_filename=daily_urls)     \n",
       "55  DumpTask(target_filename=None)(chunk=prep)(sql_filename=regular_urls)   \n",
       "56  ProxySetupTask                                                          \n",
       "\n",
       "   rel_start  rel_end  num_start  num_end          start_time  \\\n",
       "52  0:12:52   0:31:53  772.0      1913.0  2019-09-01 09:42:15   \n",
       "53  0:12:52   0:13:31  772.0      811.0   2019-09-01 09:42:15   \n",
       "54  0:12:52   0:14:21  772.0      861.0   2019-09-01 09:42:15   \n",
       "55  0:12:52   0:39:39  772.0      2379.0  2019-09-01 09:42:15   \n",
       "56  0:12:52   0:24:50  772.0      1490.0  2019-09-01 09:42:15   \n",
       "\n",
       "              end_time  \n",
       "52 2019-09-01 10:01:16  \n",
       "53 2019-09-01 09:42:54  \n",
       "54 2019-09-01 09:43:44  \n",
       "55 2019-09-01 10:09:02  \n",
       "56 2019-09-01 09:54:13  "
      ]
     },
     "execution_count": 13,
     "metadata": {},
     "output_type": "execute_result"
    }
   ],
   "source": [
    "from processmining.plot import point_transformer as pt\n",
    "\n",
    "subset = appended.copy()\n",
    "#subset = appended[appended['activity'].str.startswith('CrawlTask')].head(1000)\n",
    "#print(subset['activity'][0])\n",
    "print(len(subset),' length of subset')\n",
    "output_prefix = LUIGI_LOG_PATH+'graphs/'+filename\n",
    "print(output_prefix)\n",
    "#snippet = plot_point_transformer_selection(subset, output_prefix)\n",
    "subset = pt.get_relative_timestamps(subset, ['AllTasks'])\n",
    "print(len(subset))\n",
    "subset.head()"
   ]
  },
  {
   "cell_type": "code",
   "execution_count": 14,
   "metadata": {},
   "outputs": [
    {
     "name": "stdout",
     "output_type": "stream",
     "text": [
      "15708  length of subset\n",
      "2824 points on the skylines\n"
     ]
    },
    {
     "data": {
      "text/html": [
       "<div>\n",
       "<style scoped>\n",
       "    .dataframe tbody tr th:only-of-type {\n",
       "        vertical-align: middle;\n",
       "    }\n",
       "\n",
       "    .dataframe tbody tr th {\n",
       "        vertical-align: top;\n",
       "    }\n",
       "\n",
       "    .dataframe thead th {\n",
       "        text-align: right;\n",
       "    }\n",
       "</style>\n",
       "<table border=\"1\" class=\"dataframe\">\n",
       "  <thead>\n",
       "    <tr style=\"text-align: right;\">\n",
       "      <th></th>\n",
       "      <th>num_start</th>\n",
       "      <th>num_end</th>\n",
       "      <th>activity</th>\n",
       "      <th>case</th>\n",
       "    </tr>\n",
       "  </thead>\n",
       "  <tbody>\n",
       "    <tr>\n",
       "      <th>0</th>\n",
       "      <td>772.0</td>\n",
       "      <td>1913.0</td>\n",
       "      <td>DumpTask(target_filename=None)(chunk=prep)(sql_filename=reprocess_urls)</td>\n",
       "      <td>daily.2019-09-16_19-44-01.csv</td>\n",
       "    </tr>\n",
       "    <tr>\n",
       "      <th>1</th>\n",
       "      <td>772.0</td>\n",
       "      <td>1913.0</td>\n",
       "      <td>DumpTask(target_filename=None)(chunk=prep)(sql_filename=daily_urls)</td>\n",
       "      <td>daily.2019-09-16_19-44-01.csv</td>\n",
       "    </tr>\n",
       "    <tr>\n",
       "      <th>2</th>\n",
       "      <td>772.0</td>\n",
       "      <td>1913.0</td>\n",
       "      <td>DumpTask(target_filename=None)(chunk=prep)(sql_filename=regular_urls)</td>\n",
       "      <td>daily.2019-09-16_19-44-01.csv</td>\n",
       "    </tr>\n",
       "    <tr>\n",
       "      <th>3</th>\n",
       "      <td>772.0</td>\n",
       "      <td>2379.0</td>\n",
       "      <td>ProxySetupTask</td>\n",
       "      <td>daily.2019-09-16_19-44-01.csv</td>\n",
       "    </tr>\n",
       "    <tr>\n",
       "      <th>4</th>\n",
       "      <td>772.0</td>\n",
       "      <td>2379.0</td>\n",
       "      <td>CrawlFeedTask</td>\n",
       "      <td>daily.2019-09-16_19-44-01.csv</td>\n",
       "    </tr>\n",
       "  </tbody>\n",
       "</table>\n",
       "</div>"
      ],
      "text/plain": [
       "   num_start  num_end  \\\n",
       "0  772.0      1913.0    \n",
       "1  772.0      1913.0    \n",
       "2  772.0      1913.0    \n",
       "3  772.0      2379.0    \n",
       "4  772.0      2379.0    \n",
       "\n",
       "                                                                  activity  \\\n",
       "0  DumpTask(target_filename=None)(chunk=prep)(sql_filename=reprocess_urls)   \n",
       "1  DumpTask(target_filename=None)(chunk=prep)(sql_filename=daily_urls)       \n",
       "2  DumpTask(target_filename=None)(chunk=prep)(sql_filename=regular_urls)     \n",
       "3  ProxySetupTask                                                            \n",
       "4  CrawlFeedTask                                                             \n",
       "\n",
       "                            case  \n",
       "0  daily.2019-09-16_19-44-01.csv  \n",
       "1  daily.2019-09-16_19-44-01.csv  \n",
       "2  daily.2019-09-16_19-44-01.csv  \n",
       "3  daily.2019-09-16_19-44-01.csv  \n",
       "4  daily.2019-09-16_19-44-01.csv  "
      ]
     },
     "execution_count": 14,
     "metadata": {},
     "output_type": "execute_result"
    }
   ],
   "source": [
    "print(len(subset),' length of subset')\n",
    "skyline_points = pt.get_skyline_points(subset)\n",
    "print(len(skyline_points), 'points on the skylines')\n",
    "skyline_points.head()"
   ]
  },
  {
   "cell_type": "code",
   "execution_count": 15,
   "metadata": {},
   "outputs": [
    {
     "name": "stdout",
     "output_type": "stream",
     "text": [
      "\n",
      " 244 Activities appear in the skyline:\n"
     ]
    },
    {
     "data": {
      "text/html": [
       "<div>\n",
       "<style scoped>\n",
       "    .dataframe tbody tr th:only-of-type {\n",
       "        vertical-align: middle;\n",
       "    }\n",
       "\n",
       "    .dataframe tbody tr th {\n",
       "        vertical-align: top;\n",
       "    }\n",
       "\n",
       "    .dataframe thead th {\n",
       "        text-align: right;\n",
       "    }\n",
       "</style>\n",
       "<table border=\"1\" class=\"dataframe\">\n",
       "  <thead>\n",
       "    <tr style=\"text-align: right;\">\n",
       "      <th></th>\n",
       "      <th>activity</th>\n",
       "      <th>counts</th>\n",
       "    </tr>\n",
       "  </thead>\n",
       "  <tbody>\n",
       "    <tr>\n",
       "      <th>122</th>\n",
       "      <td>ExtractChunkTask(crawler=creepy-crawly)(chunk=01)</td>\n",
       "      <td>13</td>\n",
       "    </tr>\n",
       "    <tr>\n",
       "      <th>186</th>\n",
       "      <td>QCValidateTask(what=review)(chunk=01)</td>\n",
       "      <td>13</td>\n",
       "    </tr>\n",
       "    <tr>\n",
       "      <th>108</th>\n",
       "      <td>DumpTask(target_filename=review_2016_1)(chunk=prep)(sql_filename=review)</td>\n",
       "      <td>13</td>\n",
       "    </tr>\n",
       "    <tr>\n",
       "      <th>71</th>\n",
       "      <td>CrawlTask(crawler=creepy-crawly)(chunk=03)</td>\n",
       "      <td>13</td>\n",
       "    </tr>\n",
       "    <tr>\n",
       "      <th>109</th>\n",
       "      <td>DumpTask(target_filename=review_2016_2)(chunk=prep)(sql_filename=review)</td>\n",
       "      <td>13</td>\n",
       "    </tr>\n",
       "  </tbody>\n",
       "</table>\n",
       "</div>"
      ],
      "text/plain": [
       "                                                                     activity  \\\n",
       "122  ExtractChunkTask(crawler=creepy-crawly)(chunk=01)                          \n",
       "186  QCValidateTask(what=review)(chunk=01)                                      \n",
       "108  DumpTask(target_filename=review_2016_1)(chunk=prep)(sql_filename=review)   \n",
       "71   CrawlTask(crawler=creepy-crawly)(chunk=03)                                 \n",
       "109  DumpTask(target_filename=review_2016_2)(chunk=prep)(sql_filename=review)   \n",
       "\n",
       "     counts  \n",
       "122  13      \n",
       "186  13      \n",
       "108  13      \n",
       "71   13      \n",
       "109  13      "
      ]
     },
     "execution_count": 15,
     "metadata": {},
     "output_type": "execute_result"
    }
   ],
   "source": [
    "#print(len(skyline_points), 'points are part of skylines')\n",
    "unique_sk_activities = skyline_points['activity'].unique().tolist()\n",
    "#print(len(unique_sk_activities), 'activities in the skyline')\n",
    "skyline_points.groupby('case').size().reset_index(name='counts').sort_values(by=['counts'], ascending=False)\n",
    "\n",
    "activities=[]\n",
    "for i, case in enumerate(skyline_points['case'].unique()):\n",
    "    acts = skyline_points[skyline_points['case']==case]['activity'].unique().tolist()\n",
    "    activities.append(acts)\n",
    "    #print(case, len(acts))\n",
    "\n",
    "representative = skyline_points[['case','activity']].drop_duplicates()\n",
    "rep_appereances = representative.groupby(by = ['activity']).size().reset_index(name='counts').sort_values(by=['counts'], ascending=False)\n",
    "#rep_appereances = skyline_points.groupby(by = ['activity']).size().reset_index(name='counts').sort_values(by=['counts'], ascending=False)\n",
    "\n",
    "pd.set_option('display.max_rows', None)\n",
    "print('\\n',len(rep_appereances), 'Activities appear in the skyline:')\n",
    "rep_appereances.head()\n",
    "#rep_appereances[rep_appereances['counts']<13]\n",
    "\n",
    "#rep_appereances.groupby(by = ['counts']).size().reset_index(name='activities').sort_values(by=['counts'], ascending=False)"
   ]
  },
  {
   "cell_type": "code",
   "execution_count": 16,
   "metadata": {},
   "outputs": [
    {
     "name": "stderr",
     "output_type": "stream",
     "text": [
      "/usr/local/trustyou/home/andream/anaconda3/lib/python3.6/site-packages/matplotlib/axes/_axes.py:6462: UserWarning: The 'normed' kwarg is deprecated, and has been replaced by the 'density' kwarg.\n",
      "  warnings.warn(\"The 'normed' kwarg is deprecated, and has been \"\n"
     ]
    },
    {
     "data": {
      "text/plain": [
       "Text(0,0.5,'Number of activities')"
      ]
     },
     "execution_count": 16,
     "metadata": {},
     "output_type": "execute_result"
    },
    {
     "data": {
      "image/png": "[encoded data removed]",
      "text/plain": [
       "<Figure size 432x288 with 1 Axes>"
      ]
     },
     "metadata": {},
     "output_type": "display_data"
    }
   ],
   "source": [
    "# Import the libraries\n",
    "import matplotlib.pyplot as plt\n",
    "import seaborn as sns\n",
    "\n",
    "# matplotlib histogram\n",
    "plt.hist(rep_appereances['counts'], color = 'blue', edgecolor = 'black',\n",
    "         bins = int(180/5))\n",
    "\n",
    "# seaborn histogram\n",
    "sns.distplot(rep_appereances['counts'], hist=True, kde=False, \n",
    "             bins=int(180/5), color = 'blue',\n",
    "             hist_kws={'edgecolor':'black'})\n",
    "# Add labels\n",
    "plt.title('Histogram of Skyline Unique Activities Appereances in 13 Traces')\n",
    "plt.xlabel('Number of appereances')\n",
    "plt.ylabel('Number of activities')"
   ]
  },
  {
   "cell_type": "code",
   "execution_count": 17,
   "metadata": {},
   "outputs": [
    {
     "ename": "ValueError",
     "evalue": "color kwarg must have one color per dataset",
     "output_type": "error",
     "traceback": [
      "\u001b[0;31m---------------------------------------------------------------------------\u001b[0m",
      "\u001b[0;31mValueError\u001b[0m                                Traceback (most recent call last)",
      "\u001b[0;32m<ipython-input-17-59f35f8b912f>\u001b[0m in \u001b[0;36m<module>\u001b[0;34m()\u001b[0m\n\u001b[1;32m      5\u001b[0m \u001b[0;31m# matplotlib histogram\u001b[0m\u001b[0;34m\u001b[0m\u001b[0;34m\u001b[0m\u001b[0m\n\u001b[1;32m      6\u001b[0m plt.hist(skyline_points['activity'], color = 'blue', edgecolor = 'black',\n\u001b[0;32m----> 7\u001b[0;31m          bins = int(180/5))\n\u001b[0m\u001b[1;32m      8\u001b[0m \u001b[0;34m\u001b[0m\u001b[0m\n\u001b[1;32m      9\u001b[0m \u001b[0;31m# seaborn histogram\u001b[0m\u001b[0;34m\u001b[0m\u001b[0;34m\u001b[0m\u001b[0m\n",
      "\u001b[0;32m~/anaconda3/lib/python3.6/site-packages/matplotlib/pyplot.py\u001b[0m in \u001b[0;36mhist\u001b[0;34m(x, bins, range, density, weights, cumulative, bottom, histtype, align, orientation, rwidth, log, color, label, stacked, normed, hold, data, **kwargs)\u001b[0m\n\u001b[1;32m   3130\u001b[0m                       \u001b[0mhisttype\u001b[0m\u001b[0;34m=\u001b[0m\u001b[0mhisttype\u001b[0m\u001b[0;34m,\u001b[0m \u001b[0malign\u001b[0m\u001b[0;34m=\u001b[0m\u001b[0malign\u001b[0m\u001b[0;34m,\u001b[0m \u001b[0morientation\u001b[0m\u001b[0;34m=\u001b[0m\u001b[0morientation\u001b[0m\u001b[0;34m,\u001b[0m\u001b[0;34m\u001b[0m\u001b[0m\n\u001b[1;32m   3131\u001b[0m                       \u001b[0mrwidth\u001b[0m\u001b[0;34m=\u001b[0m\u001b[0mrwidth\u001b[0m\u001b[0;34m,\u001b[0m \u001b[0mlog\u001b[0m\u001b[0;34m=\u001b[0m\u001b[0mlog\u001b[0m\u001b[0;34m,\u001b[0m \u001b[0mcolor\u001b[0m\u001b[0;34m=\u001b[0m\u001b[0mcolor\u001b[0m\u001b[0;34m,\u001b[0m \u001b[0mlabel\u001b[0m\u001b[0;34m=\u001b[0m\u001b[0mlabel\u001b[0m\u001b[0;34m,\u001b[0m\u001b[0;34m\u001b[0m\u001b[0m\n\u001b[0;32m-> 3132\u001b[0;31m                       stacked=stacked, normed=normed, data=data, **kwargs)\n\u001b[0m\u001b[1;32m   3133\u001b[0m     \u001b[0;32mfinally\u001b[0m\u001b[0;34m:\u001b[0m\u001b[0;34m\u001b[0m\u001b[0m\n\u001b[1;32m   3134\u001b[0m         \u001b[0max\u001b[0m\u001b[0;34m.\u001b[0m\u001b[0m_hold\u001b[0m \u001b[0;34m=\u001b[0m \u001b[0mwashold\u001b[0m\u001b[0;34m\u001b[0m\u001b[0m\n",
      "\u001b[0;32m~/anaconda3/lib/python3.6/site-packages/matplotlib/__init__.py\u001b[0m in \u001b[0;36minner\u001b[0;34m(ax, *args, **kwargs)\u001b[0m\n\u001b[1;32m   1853\u001b[0m                         \u001b[0;34m\"the Matplotlib list!)\"\u001b[0m \u001b[0;34m%\u001b[0m \u001b[0;34m(\u001b[0m\u001b[0mlabel_namer\u001b[0m\u001b[0;34m,\u001b[0m \u001b[0mfunc\u001b[0m\u001b[0;34m.\u001b[0m\u001b[0m__name__\u001b[0m\u001b[0;34m)\u001b[0m\u001b[0;34m,\u001b[0m\u001b[0;34m\u001b[0m\u001b[0m\n\u001b[1;32m   1854\u001b[0m                         RuntimeWarning, stacklevel=2)\n\u001b[0;32m-> 1855\u001b[0;31m             \u001b[0;32mreturn\u001b[0m \u001b[0mfunc\u001b[0m\u001b[0;34m(\u001b[0m\u001b[0max\u001b[0m\u001b[0;34m,\u001b[0m \u001b[0;34m*\u001b[0m\u001b[0margs\u001b[0m\u001b[0;34m,\u001b[0m \u001b[0;34m**\u001b[0m\u001b[0mkwargs\u001b[0m\u001b[0;34m)\u001b[0m\u001b[0;34m\u001b[0m\u001b[0m\n\u001b[0m\u001b[1;32m   1856\u001b[0m \u001b[0;34m\u001b[0m\u001b[0m\n\u001b[1;32m   1857\u001b[0m         inner.__doc__ = _add_data_doc(inner.__doc__,\n",
      "\u001b[0;32m~/anaconda3/lib/python3.6/site-packages/matplotlib/axes/_axes.py\u001b[0m in \u001b[0;36mhist\u001b[0;34m(***failed resolving arguments***)\u001b[0m\n\u001b[1;32m   6502\u001b[0m             \u001b[0mcolor\u001b[0m \u001b[0;34m=\u001b[0m \u001b[0mmcolors\u001b[0m\u001b[0;34m.\u001b[0m\u001b[0mto_rgba_array\u001b[0m\u001b[0;34m(\u001b[0m\u001b[0mcolor\u001b[0m\u001b[0;34m)\u001b[0m\u001b[0;34m\u001b[0m\u001b[0m\n\u001b[1;32m   6503\u001b[0m             \u001b[0;32mif\u001b[0m \u001b[0mlen\u001b[0m\u001b[0;34m(\u001b[0m\u001b[0mcolor\u001b[0m\u001b[0;34m)\u001b[0m \u001b[0;34m!=\u001b[0m \u001b[0mnx\u001b[0m\u001b[0;34m:\u001b[0m\u001b[0;34m\u001b[0m\u001b[0m\n\u001b[0;32m-> 6504\u001b[0;31m                 \u001b[0;32mraise\u001b[0m \u001b[0mValueError\u001b[0m\u001b[0;34m(\u001b[0m\u001b[0;34m\"color kwarg must have one color per dataset\"\u001b[0m\u001b[0;34m)\u001b[0m\u001b[0;34m\u001b[0m\u001b[0m\n\u001b[0m\u001b[1;32m   6505\u001b[0m \u001b[0;34m\u001b[0m\u001b[0m\n\u001b[1;32m   6506\u001b[0m         \u001b[0;31m# If bins are not specified either explicitly or via range,\u001b[0m\u001b[0;34m\u001b[0m\u001b[0;34m\u001b[0m\u001b[0m\n",
      "\u001b[0;31mValueError\u001b[0m: color kwarg must have one color per dataset"
     ]
    },
    {
     "data": {
      "image/png": "[encoded data removed]",
      "text/plain": [
       "<Figure size 432x288 with 1 Axes>"
      ]
     },
     "metadata": {},
     "output_type": "display_data"
    }
   ],
   "source": [
    "# Import the libraries\n",
    "import matplotlib.pyplot as plt\n",
    "import seaborn as sns\n",
    "\n",
    "# matplotlib histogram\n",
    "plt.hist(skyline_points['activity'], color = 'blue', edgecolor = 'black',\n",
    "         bins = int(180/5))\n",
    "\n",
    "# seaborn histogram\n",
    "sns.distplot(skyline_points['activity'], hist=True, kde=False, \n",
    "             bins=int(180/5), color = 'blue',\n",
    "             hist_kws={'edgecolor':'black'})\n",
    "# Add labels\n",
    "plt.title('Histogram of Skyline Unique Activities Appereances in 13 Traces')\n",
    "plt.xlabel('Number of appereances')\n",
    "plt.ylabel('Number of activities')"
   ]
  },
  {
   "cell_type": "code",
   "execution_count": null,
   "metadata": {},
   "outputs": [],
   "source": []
  }
 ],
 "metadata": {
  "kernelspec": {
   "display_name": "Python 3",
   "language": "python",
   "name": "python3"
  },
  "language_info": {
   "codemirror_mode": {
    "name": "ipython",
    "version": 3
   },
   "file_extension": ".py",
   "mimetype": "text/x-python",
   "name": "python",
   "nbconvert_exporter": "python",
   "pygments_lexer": "ipython3",
   "version": "3.6.5"
  }
 },
 "nbformat": 4,
 "nbformat_minor": 2
}
