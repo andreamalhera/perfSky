{
 "cells": [
  {
   "cell_type": "code",
   "execution_count": 612,
   "metadata": {},
   "outputs": [],
   "source": [
    "import pandas as pd\n",
    "import re\n",
    "import os\n",
    "import numpy as np\n",
    "import datetime"
   ]
  },
  {
   "cell_type": "code",
   "execution_count": 613,
   "metadata": {},
   "outputs": [
    {
     "data": {
      "text/plain": [
       "['daily.2019-09-04_23-23-01.csv',\n",
       " 'daily.2019-09-09_01-34-02.csv',\n",
       " 'daily.2019-09-16_19-44-01.csv',\n",
       " 'daily.2019-09-20_12-49-01.csv',\n",
       " 'daily.2019-09-24_05-05-02.csv',\n",
       " 'daily.2019-09-11_05-40-02.csv',\n",
       " 'daily.2019-09-13_04-11-01.csv',\n",
       " 'daily.2019-09-06_20-34-01.csv',\n",
       " 'daily.2019-09-18_14-08-01.csv',\n",
       " 'daily.2019-09-15_01-41-01.csv',\n",
       " 'daily.2019-09-03_03-44-01.csv',\n",
       " 'daily.2019-09-22_07-40-01.csv',\n",
       " 'daily.2019-09-01_09-29-01.csv']"
      ]
     },
     "execution_count": 613,
     "metadata": {},
     "output_type": "execute_result"
    }
   ],
   "source": [
    "csv_list = []\n",
    "LUIGI_LOG_PATH='/usr/local/trustyou/home/andream/nfs/processmining/minilogs'\n",
    "for filename in os.listdir(LUIGI_LOG_PATH):\n",
    "    if filename.endswith('.csv'):\n",
    "        # log_path = LUIGI_LOG_PATH+'/'+filename\n",
    "        csv_list.append(filename)\n",
    "csv_list"
   ]
  },
  {
   "cell_type": "code",
   "execution_count": 614,
   "metadata": {},
   "outputs": [
    {
     "name": "stdout",
     "output_type": "stream",
     "text": [
      "2506\n"
     ]
    },
    {
     "data": {
      "text/html": [
       "<div>\n",
       "<style scoped>\n",
       "    .dataframe tbody tr th:only-of-type {\n",
       "        vertical-align: middle;\n",
       "    }\n",
       "\n",
       "    .dataframe tbody tr th {\n",
       "        vertical-align: top;\n",
       "    }\n",
       "\n",
       "    .dataframe thead th {\n",
       "        text-align: right;\n",
       "    }\n",
       "</style>\n",
       "<table border=\"1\" class=\"dataframe\">\n",
       "  <thead>\n",
       "    <tr style=\"text-align: right;\">\n",
       "      <th></th>\n",
       "      <th>timestamp</th>\n",
       "      <th>task</th>\n",
       "      <th>state</th>\n",
       "      <th>source_file</th>\n",
       "    </tr>\n",
       "  </thead>\n",
       "  <tbody>\n",
       "    <tr>\n",
       "      <th>0</th>\n",
       "      <td>2019-09-04 23:23:20</td>\n",
       "      <td>AllTasks</td>\n",
       "      <td>start</td>\n",
       "      <td>daily.2019-09-04_23-23-01.csv</td>\n",
       "    </tr>\n",
       "    <tr>\n",
       "      <th>1</th>\n",
       "      <td>2019-09-04 23:35:08</td>\n",
       "      <td>DumpTask(date=2019-09-04_23-23-01, prev_date=2019-09-03_03-44-01, chunk=prep, sql_filename=daily...</td>\n",
       "      <td>start</td>\n",
       "      <td>daily.2019-09-04_23-23-01.csv</td>\n",
       "    </tr>\n",
       "    <tr>\n",
       "      <th>2</th>\n",
       "      <td>2019-09-04 23:35:08</td>\n",
       "      <td>DumpTask(date=2019-09-04_23-23-01, prev_date=2019-09-03_03-44-01, chunk=prep, sql_filename=regul...</td>\n",
       "      <td>start</td>\n",
       "      <td>daily.2019-09-04_23-23-01.csv</td>\n",
       "    </tr>\n",
       "    <tr>\n",
       "      <th>3</th>\n",
       "      <td>2019-09-04 23:35:08</td>\n",
       "      <td>DumpTask(date=2019-09-04_23-23-01, prev_date=2019-09-03_03-44-01, chunk=prep, sql_filename=repro...</td>\n",
       "      <td>start</td>\n",
       "      <td>daily.2019-09-04_23-23-01.csv</td>\n",
       "    </tr>\n",
       "    <tr>\n",
       "      <th>4</th>\n",
       "      <td>2019-09-04 23:35:08</td>\n",
       "      <td>ProxySetupTask(date=2019-09-04_23-23-01, prev_date=2019-09-03_03-44-01, chunk=prep)\\n</td>\n",
       "      <td>start</td>\n",
       "      <td>daily.2019-09-04_23-23-01.csv</td>\n",
       "    </tr>\n",
       "  </tbody>\n",
       "</table>\n",
       "</div>"
      ],
      "text/plain": [
       "             timestamp  \\\n",
       "0  2019-09-04 23:23:20   \n",
       "1  2019-09-04 23:35:08   \n",
       "2  2019-09-04 23:35:08   \n",
       "3  2019-09-04 23:35:08   \n",
       "4  2019-09-04 23:35:08   \n",
       "\n",
       "                                                                                                  task  \\\n",
       "0                                                                                             AllTasks   \n",
       "1  DumpTask(date=2019-09-04_23-23-01, prev_date=2019-09-03_03-44-01, chunk=prep, sql_filename=daily...   \n",
       "2  DumpTask(date=2019-09-04_23-23-01, prev_date=2019-09-03_03-44-01, chunk=prep, sql_filename=regul...   \n",
       "3  DumpTask(date=2019-09-04_23-23-01, prev_date=2019-09-03_03-44-01, chunk=prep, sql_filename=repro...   \n",
       "4                ProxySetupTask(date=2019-09-04_23-23-01, prev_date=2019-09-03_03-44-01, chunk=prep)\\n   \n",
       "\n",
       "   state                    source_file  \n",
       "0  start  daily.2019-09-04_23-23-01.csv  \n",
       "1  start  daily.2019-09-04_23-23-01.csv  \n",
       "2  start  daily.2019-09-04_23-23-01.csv  \n",
       "3  start  daily.2019-09-04_23-23-01.csv  \n",
       "4  start  daily.2019-09-04_23-23-01.csv  "
      ]
     },
     "execution_count": 614,
     "metadata": {},
     "output_type": "execute_result"
    }
   ],
   "source": [
    "filename='daily.2019-09-04_23-23-01.csv'\n",
    "df = pd.read_csv(LUIGI_LOG_PATH+'/'+filename, index_col=0)\n",
    "\n",
    "# df['pid'] = df['pid'].astype(str)  \n",
    "# df['pid'] = df['pid'].str.replace('.0', ' ')\n",
    "# df['pid'] = df['pid'].replace('nan', np.nan, regex=True)\n",
    "\n",
    "df = df[['timestamp','task','state']]\n",
    "df['source_file'] = filename\n",
    "\n",
    "df['state'][0]='start'\n",
    "df['task'][0]='AllTasks'\n",
    "\n",
    "df['state'][len(df)-1]='done'\n",
    "df['task'][len(df)-1]='AllTasks'\n",
    "\n",
    "print(len(df))\n",
    "df.head()"
   ]
  },
  {
   "cell_type": "code",
   "execution_count": 615,
   "metadata": {},
   "outputs": [],
   "source": [
    "def get_task(task_call):\n",
    "    if isinstance(task_call, float):\n",
    "        return task_call\n",
    "    return task_call.split('(')[0]"
   ]
  },
  {
   "cell_type": "code",
   "execution_count": 616,
   "metadata": {},
   "outputs": [],
   "source": [
    "df['task_call'] = df['task']\n",
    "df['task_name'] = np.where(df['task'].notnull(), df['task'].apply(get_task), df['task'])\n",
    "df = df[['task_name','state','timestamp','task_call', 'source_file']]"
   ]
  },
  {
   "cell_type": "code",
   "execution_count": 595,
   "metadata": {},
   "outputs": [],
   "source": [
    "df['start_time'] = np.where(df['state']=='start', df['timestamp'], np.nan)\n",
    "df['end_time'] = np.where(df['state']=='done', df['timestamp'], np.nan)"
   ]
  },
  {
   "cell_type": "code",
   "execution_count": 596,
   "metadata": {},
   "outputs": [
    {
     "name": "stdout",
     "output_type": "stream",
     "text": [
      "1252\n",
      "1248\n"
     ]
    }
   ],
   "source": [
    "start_df = df[df['state']=='start']\n",
    "print(len(start_df))\n",
    "\n",
    "end_df = df[df['state']=='done']\n",
    "print(len(end_df))"
   ]
  },
  {
   "cell_type": "code",
   "execution_count": 597,
   "metadata": {},
   "outputs": [
    {
     "name": "stdout",
     "output_type": "stream",
     "text": [
      "1252\n"
     ]
    }
   ],
   "source": [
    "all_df = pd.merge(start_df, end_df, on=['task_call', 'source_file'], how='outer')\n",
    "print(len(all_df))"
   ]
  },
  {
   "cell_type": "code",
   "execution_count": 598,
   "metadata": {},
   "outputs": [],
   "source": [
    "def get_duration(start_time, end_time):\n",
    "    start = datetime.datetime.strptime(start_time, '%Y-%m-%d %H:%M:%S')\n",
    "    end = datetime.datetime.strptime(end_time, '%Y-%m-%d %H:%M:%S')\n",
    "    duration = abs(end - start)\n",
    "    return duration\n",
    "# get_duration(ex['timestamp'][10],ex['timestamp'][1])"
   ]
  },
  {
   "cell_type": "code",
   "execution_count": 606,
   "metadata": {},
   "outputs": [
    {
     "name": "stdout",
     "output_type": "stream",
     "text": [
      "1252\n"
     ]
    },
    {
     "data": {
      "text/html": [
       "<div>\n",
       "<style scoped>\n",
       "    .dataframe tbody tr th:only-of-type {\n",
       "        vertical-align: middle;\n",
       "    }\n",
       "\n",
       "    .dataframe tbody tr th {\n",
       "        vertical-align: top;\n",
       "    }\n",
       "\n",
       "    .dataframe thead th {\n",
       "        text-align: right;\n",
       "    }\n",
       "</style>\n",
       "<table border=\"1\" class=\"dataframe\">\n",
       "  <thead>\n",
       "    <tr style=\"text-align: right;\">\n",
       "      <th></th>\n",
       "      <th>task_name</th>\n",
       "      <th>duration</th>\n",
       "      <th>task_call</th>\n",
       "      <th>start_time</th>\n",
       "      <th>end_time</th>\n",
       "      <th>source_file</th>\n",
       "    </tr>\n",
       "  </thead>\n",
       "  <tbody>\n",
       "    <tr>\n",
       "      <th>943</th>\n",
       "      <td>AlertsTask</td>\n",
       "      <td>0:00:02</td>\n",
       "      <td>AlertsTask(date=2019-09-04_23-23-01, prev_date=2019-09-03_03-44-01, chunk=01, send_to=real)\\n</td>\n",
       "      <td>2019-09-05 17:50:00</td>\n",
       "      <td>2019-09-05 17:50:02</td>\n",
       "      <td>daily.2019-09-04_23-23-01.csv</td>\n",
       "    </tr>\n",
       "    <tr>\n",
       "      <th>1224</th>\n",
       "      <td>AlertsTask</td>\n",
       "      <td>0:00:01</td>\n",
       "      <td>AlertsTask(date=2019-09-04_23-23-01, prev_date=2019-09-03_03-44-01, chunk=02, send_to=real)\\n</td>\n",
       "      <td>2019-09-06 16:19:34</td>\n",
       "      <td>2019-09-06 16:19:35</td>\n",
       "      <td>daily.2019-09-04_23-23-01.csv</td>\n",
       "    </tr>\n",
       "    <tr>\n",
       "      <th>0</th>\n",
       "      <td>AllTasks</td>\n",
       "      <td>1 day, 21:09:45</td>\n",
       "      <td>AllTasks</td>\n",
       "      <td>2019-09-04 23:23:20</td>\n",
       "      <td>2019-09-06 20:33:05</td>\n",
       "      <td>daily.2019-09-04_23-23-01.csv</td>\n",
       "    </tr>\n",
       "    <tr>\n",
       "      <th>888</th>\n",
       "      <td>ChunkReviewTimelineTask</td>\n",
       "      <td>0:03:16</td>\n",
       "      <td>ChunkReviewTimelineTask(date=2019-09-04_23-23-01, prev_date=2019-09-03_03-44-01, chunk=01)\\n</td>\n",
       "      <td>2019-09-05 16:54:08</td>\n",
       "      <td>2019-09-05 16:57:24</td>\n",
       "      <td>daily.2019-09-04_23-23-01.csv</td>\n",
       "    </tr>\n",
       "    <tr>\n",
       "      <th>1200</th>\n",
       "      <td>ChunkReviewTimelineTask</td>\n",
       "      <td>0:05:26</td>\n",
       "      <td>ChunkReviewTimelineTask(date=2019-09-04_23-23-01, prev_date=2019-09-03_03-44-01, chunk=02)\\n</td>\n",
       "      <td>2019-09-06 14:33:25</td>\n",
       "      <td>2019-09-06 14:38:51</td>\n",
       "      <td>daily.2019-09-04_23-23-01.csv</td>\n",
       "    </tr>\n",
       "  </tbody>\n",
       "</table>\n",
       "</div>"
      ],
      "text/plain": [
       "                    task_name         duration  \\\n",
       "943                AlertsTask          0:00:02   \n",
       "1224               AlertsTask          0:00:01   \n",
       "0                    AllTasks  1 day, 21:09:45   \n",
       "888   ChunkReviewTimelineTask          0:03:16   \n",
       "1200  ChunkReviewTimelineTask          0:05:26   \n",
       "\n",
       "                                                                                          task_call  \\\n",
       "943   AlertsTask(date=2019-09-04_23-23-01, prev_date=2019-09-03_03-44-01, chunk=01, send_to=real)\\n   \n",
       "1224  AlertsTask(date=2019-09-04_23-23-01, prev_date=2019-09-03_03-44-01, chunk=02, send_to=real)\\n   \n",
       "0                                                                                          AllTasks   \n",
       "888    ChunkReviewTimelineTask(date=2019-09-04_23-23-01, prev_date=2019-09-03_03-44-01, chunk=01)\\n   \n",
       "1200   ChunkReviewTimelineTask(date=2019-09-04_23-23-01, prev_date=2019-09-03_03-44-01, chunk=02)\\n   \n",
       "\n",
       "               start_time             end_time                    source_file  \n",
       "943   2019-09-05 17:50:00  2019-09-05 17:50:02  daily.2019-09-04_23-23-01.csv  \n",
       "1224  2019-09-06 16:19:34  2019-09-06 16:19:35  daily.2019-09-04_23-23-01.csv  \n",
       "0     2019-09-04 23:23:20  2019-09-06 20:33:05  daily.2019-09-04_23-23-01.csv  \n",
       "888   2019-09-05 16:54:08  2019-09-05 16:57:24  daily.2019-09-04_23-23-01.csv  \n",
       "1200  2019-09-06 14:33:25  2019-09-06 14:38:51  daily.2019-09-04_23-23-01.csv  "
      ]
     },
     "execution_count": 606,
     "metadata": {},
     "output_type": "execute_result"
    }
   ],
   "source": [
    "all_df['start_time'] = all_df['start_time_x']\n",
    "all_df['end_time'] = all_df['end_time_y']\n",
    "all_df['duration'] = all_df.apply(lambda row: str(get_duration(row['start_time'],row['end_time'])), axis=1)\n",
    "all_df['t_duration']= all_df.apply(lambda row: get_duration(row['start_time'],row['end_time']), axis=1)\n",
    "all_df['task_name'] = all_df['task_name_x']\n",
    "\n",
    "dur_df = all_df[['task_name','duration','task_call','start_time','end_time', 'source_file']]\n",
    "print(len(dur_df))\n",
    "dur_df = dur_df.sort_values(by=['task_call'])\n",
    "dur_df.head()"
   ]
  },
  {
   "cell_type": "code",
   "execution_count": null,
   "metadata": {},
   "outputs": [],
   "source": []
  },
  {
   "cell_type": "code",
   "execution_count": 601,
   "metadata": {},
   "outputs": [],
   "source": [
    "#for name, group in df.groupby(['task_call'],as_index=False):\n",
    "#    print(name)\n",
    "#    print(group)"
   ]
  },
  {
   "cell_type": "code",
   "execution_count": 602,
   "metadata": {},
   "outputs": [
    {
     "data": {
      "text/plain": [
       "task_call\n",
       "AlertsTask(date=2019-09-04_23-23-01, prev_date=2019-09-03_03-44-01, chunk=01, send_to=real)\\n                                                                                                                                   2\n",
       "AlertsTask(date=2019-09-04_23-23-01, prev_date=2019-09-03_03-44-01, chunk=02, send_to=real)\\n                                                                                                                                   2\n",
       "AllTasks                                                                                                                                                                                                                        2\n",
       "ChunkReviewTimelineTask(date=2019-09-04_23-23-01, prev_date=2019-09-03_03-44-01, chunk=01)\\n                                                                                                                                    2\n",
       "ChunkReviewTimelineTask(date=2019-09-04_23-23-01, prev_date=2019-09-03_03-44-01, chunk=02)\\n                                                                                                                                    2\n",
       "ChunkReviewTimelineTask(date=2019-09-04_23-23-01, prev_date=2019-09-03_03-44-01, chunk=03)\\n                                                                                                                                    2\n",
       "ChunkTask(date=2019-09-04_23-23-01, prev_date=2019-09-03_03-44-01, chunk=01)\\n                                                                                                                                                  2\n",
       "ChunkTask(date=2019-09-04_23-23-01, prev_date=2019-09-03_03-44-01, chunk=02)\\n                                                                                                                                                  2\n",
       "ChunkTask(date=2019-09-04_23-23-01, prev_date=2019-09-03_03-44-01, chunk=03)\\n                                                                                                                                                  2\n",
       "CleanupStarwoodDataTask(date=2019-09-04_23-23-01, prev_date=2019-09-03_03-44-01, chunk=01)\\n                                                                                                                                    2\n",
       "CleanupStarwoodDataTask(date=2019-09-04_23-23-01, prev_date=2019-09-03_03-44-01, chunk=02)\\n                                                                                                                                    2\n",
       "CleanupStarwoodDataTask(date=2019-09-04_23-23-01, prev_date=2019-09-03_03-44-01, chunk=03)\\n                                                                                                                                    2\n",
       "ClusterScoreTask(date=2019-09-04_23-23-01, prev_date=2019-09-03_03-44-01, chunk=prep, db_host=db.trustyou.com, db_user=daily, db_name=ty_analytic)\\n                                                                            2\n",
       "ConsolidatedAlertsTask(date=2019-09-04_23-23-01, prev_date=2019-09-03_03-44-01, chunk=01)\\n                                                                                                                                     2\n",
       "ConsolidatedAlertsTask(date=2019-09-04_23-23-01, prev_date=2019-09-03_03-44-01, chunk=02)\\n                                                                                                                                     2\n",
       "ConvertDedupTask(date=2019-09-04_23-23-01, prev_date=2019-09-03_03-44-01, chunk=01)\\n                                                                                                                                           2\n",
       "ConvertDedupTask(date=2019-09-04_23-23-01, prev_date=2019-09-03_03-44-01, chunk=02)\\n                                                                                                                                           2\n",
       "ConvertDedupTask(date=2019-09-04_23-23-01, prev_date=2019-09-03_03-44-01, chunk=03)\\n                                                                                                                                           2\n",
       "ConvertDumpTask(date=2019-09-04_23-23-01, prev_date=2019-09-03_03-44-01, chunk=01, sql_filename=consolidated_email, output_format=json, filename_chunk=None, kvs=None, target_filename=None)\\n                                  2\n",
       "ConvertDumpTask(date=2019-09-04_23-23-01, prev_date=2019-09-03_03-44-01, chunk=02, sql_filename=consolidated_email, output_format=json, filename_chunk=None, kvs=None, target_filename=None)\\n                                  2\n",
       "ConvertDumpTask(date=2019-09-04_23-23-01, prev_date=2019-09-03_03-44-01, chunk=prep, sql_filename=consolidated_email, output_format=json, filename_chunk=None, kvs=None, target_filename=None)\\n                                2\n",
       "ConvertDumpTask(date=2019-09-04_23-23-01, prev_date=2019-09-03_03-44-01, chunk=prep, sql_filename=mgmt_response, output_format=json, filename_chunk=None, kvs=None, target_filename=None)\\n                                     2\n",
       "ConvertDumpTask(date=2019-09-04_23-23-01, prev_date=2019-09-03_03-44-01, chunk=prep, sql_filename=review, output_format=json, filename_chunk=None, kvs=(('table_name', u'review_2011_1'),), target_filename=review_2011_1)\\n    2\n",
       "ConvertDumpTask(date=2019-09-04_23-23-01, prev_date=2019-09-03_03-44-01, chunk=prep, sql_filename=review, output_format=json, filename_chunk=None, kvs=(('table_name', u'review_2011_2'),), target_filename=review_2011_2)\\n    2\n",
       "ConvertDumpTask(date=2019-09-04_23-23-01, prev_date=2019-09-03_03-44-01, chunk=prep, sql_filename=review, output_format=json, filename_chunk=None, kvs=(('table_name', u'review_2011_3'),), target_filename=review_2011_3)\\n    2\n",
       "ConvertDumpTask(date=2019-09-04_23-23-01, prev_date=2019-09-03_03-44-01, chunk=prep, sql_filename=review, output_format=json, filename_chunk=None, kvs=(('table_name', u'review_2011_4'),), target_filename=review_2011_4)\\n    2\n",
       "ConvertDumpTask(date=2019-09-04_23-23-01, prev_date=2019-09-03_03-44-01, chunk=prep, sql_filename=review, output_format=json, filename_chunk=None, kvs=(('table_name', u'review_2012_1'),), target_filename=review_2012_1)\\n    2\n",
       "ConvertDumpTask(date=2019-09-04_23-23-01, prev_date=2019-09-03_03-44-01, chunk=prep, sql_filename=review, output_format=json, filename_chunk=None, kvs=(('table_name', u'review_2012_2'),), target_filename=review_2012_2)\\n    2\n",
       "ConvertDumpTask(date=2019-09-04_23-23-01, prev_date=2019-09-03_03-44-01, chunk=prep, sql_filename=review, output_format=json, filename_chunk=None, kvs=(('table_name', u'review_2012_3'),), target_filename=review_2012_3)\\n    2\n",
       "ConvertDumpTask(date=2019-09-04_23-23-01, prev_date=2019-09-03_03-44-01, chunk=prep, sql_filename=review, output_format=json, filename_chunk=None, kvs=(('table_name', u'review_2012_4'),), target_filename=review_2012_4)\\n    2\n",
       "                                                                                                                                                                                                                               ..\n",
       "StatsCrawlInputTask(date=2019-09-04_23-23-01, prev_date=2019-09-03_03-44-01, chunk=03, crawler=creepy-crawly)\\n                                                                                                                 2\n",
       "StatsCrawlTask(date=2019-09-04_23-23-01, prev_date=2019-09-03_03-44-01, chunk=01, crawler=creepy-crawly)\\n                                                                                                                      2\n",
       "StatsCrawlTask(date=2019-09-04_23-23-01, prev_date=2019-09-03_03-44-01, chunk=02, crawler=creepy-crawly)\\n                                                                                                                      2\n",
       "StatsCrawlTask(date=2019-09-04_23-23-01, prev_date=2019-09-03_03-44-01, chunk=03, crawler=creepy-crawly)\\n                                                                                                                      2\n",
       "StripPIITask(date=2019-09-04_23-23-01, prev_date=2019-09-03_03-44-01, chunk=01)\\n                                                                                                                                               2\n",
       "StripPIITask(date=2019-09-04_23-23-01, prev_date=2019-09-03_03-44-01, chunk=02)\\n                                                                                                                                               2\n",
       "StripPIITask(date=2019-09-04_23-23-01, prev_date=2019-09-03_03-44-01, chunk=03)\\n                                                                                                                                               2\n",
       "TokenizeTask(date=2019-09-04_23-23-01, prev_date=2019-09-03_03-44-01, chunk=01, archive_hdfs_filepath=hdfs://vm1.trustyou.com:54310/trustyou/apps/sema/4.2/sema-4.2.ubuntu-12.04.virtualenv.tar.gz)\\n                           2\n",
       "TokenizeTask(date=2019-09-04_23-23-01, prev_date=2019-09-03_03-44-01, chunk=02, archive_hdfs_filepath=hdfs://vm1.trustyou.com:54310/trustyou/apps/sema/4.2/sema-4.2.ubuntu-12.04.virtualenv.tar.gz)\\n                           2\n",
       "TokenizeTask(date=2019-09-04_23-23-01, prev_date=2019-09-03_03-44-01, chunk=03, archive_hdfs_filepath=hdfs://vm1.trustyou.com:54310/trustyou/apps/sema/4.2/sema-4.2.ubuntu-12.04.virtualenv.tar.gz)\\n                           2\n",
       "UpdateCrawlStartTask(date=2019-09-04_23-23-01, prev_date=2019-09-03_03-44-01, chunk=prep)\\n                                                                                                                                     2\n",
       "UpdateDBTask(date=2019-09-04_23-23-01, prev_date=2019-09-03_03-44-01, chunk=01, db_host=db.trustyou.com, db_port=5432, db_user=daily, db_name=ty_analytic)\\n                                                                    2\n",
       "UpdateDBTask(date=2019-09-04_23-23-01, prev_date=2019-09-03_03-44-01, chunk=02, db_host=db.trustyou.com, db_port=5432, db_user=daily, db_name=ty_analytic)\\n                                                                    2\n",
       "UpdateDBTask(date=2019-09-04_23-23-01, prev_date=2019-09-03_03-44-01, chunk=03, db_host=db.trustyou.com, db_port=5432, db_user=daily, db_name=ty_analytic)\\n                                                                    2\n",
       "UpdateDatastoreTask(date=2019-09-04_23-23-01, prev_date=2019-09-03_03-44-01, chunk=01, host=hd000.trustyou.com, port=9090, namespace=hotel, table=review_notification)\\n                                                        2\n",
       "UpdateDatastoreTask(date=2019-09-04_23-23-01, prev_date=2019-09-03_03-44-01, chunk=02, host=hd000.trustyou.com, port=9090, namespace=hotel, table=review_notification)\\n                                                        2\n",
       "UpdateMgmtResponseTask(date=2019-09-04_23-23-01, prev_date=2019-09-03_03-44-01, chunk=prep)\\n                                                                                                                                   2\n",
       "UpdateReviewPropsTask(date=2019-09-04_23-23-01, prev_date=2019-09-03_03-44-01, chunk=01)\\n                                                                                                                                      2\n",
       "UpdateReviewPropsTask(date=2019-09-04_23-23-01, prev_date=2019-09-03_03-44-01, chunk=02)\\n                                                                                                                                      2\n",
       "UpdateReviewPropsTask(date=2019-09-04_23-23-01, prev_date=2019-09-03_03-44-01, chunk=03)\\n                                                                                                                                      2\n",
       "UpdateTimelineTask(date=2019-09-04_23-23-01, prev_date=2019-09-03_03-44-01, chunk=03)\\n                                                                                                                                         2\n",
       "UserDemographicsFullUpdateTask(date=2019-09-04_23-23-01, prev_date=2019-09-03_03-44-01, chunk=01)\\n                                                                                                                             2\n",
       "UserDemographicsFullUpdateTask(date=2019-09-04_23-23-01, prev_date=2019-09-03_03-44-01, chunk=02)\\n                                                                                                                             2\n",
       "UserDemographicsFullUpdateTask(date=2019-09-04_23-23-01, prev_date=2019-09-03_03-44-01, chunk=03)\\n                                                                                                                             2\n",
       "UserDemographicsIncUpdateApplyTask(date=2019-09-04_23-23-01, prev_date=2019-09-03_03-44-01, chunk=01)\\n                                                                                                                         2\n",
       "UserDemographicsIncUpdateApplyTask(date=2019-09-04_23-23-01, prev_date=2019-09-03_03-44-01, chunk=02)\\n                                                                                                                         2\n",
       "UserDemographicsIncUpdateApplyTask(date=2019-09-04_23-23-01, prev_date=2019-09-03_03-44-01, chunk=03)\\n                                                                                                                         2\n",
       "UserDemographicsIncUpdateCQLTask(date=2019-09-04_23-23-01, prev_date=2019-09-03_03-44-01, chunk=01)\\n                                                                                                                           2\n",
       "UserDemographicsIncUpdateCQLTask(date=2019-09-04_23-23-01, prev_date=2019-09-03_03-44-01, chunk=02)\\n                                                                                                                           2\n",
       "UserDemographicsIncUpdateCQLTask(date=2019-09-04_23-23-01, prev_date=2019-09-03_03-44-01, chunk=03)\\n                                                                                                                           2\n",
       "Length: 1248, dtype: int64"
      ]
     },
     "execution_count": 602,
     "metadata": {},
     "output_type": "execute_result"
    }
   ],
   "source": [
    "pd.options.display.max_colwidth = 100\n",
    "grouped = df.groupby(['task_call'],as_index=False)\n",
    "grouped.size()"
   ]
  },
  {
   "cell_type": "code",
   "execution_count": null,
   "metadata": {},
   "outputs": [],
   "source": []
  }
 ],
 "metadata": {
  "kernelspec": {
   "display_name": "Python 3",
   "language": "python",
   "name": "python3"
  },
  "language_info": {
   "codemirror_mode": {
    "name": "ipython",
    "version": 3
   },
   "file_extension": ".py",
   "mimetype": "text/x-python",
   "name": "python",
   "nbconvert_exporter": "python",
   "pygments_lexer": "ipython3",
   "version": "3.6.5"
  }
 },
 "nbformat": 4,
 "nbformat_minor": 2
}
