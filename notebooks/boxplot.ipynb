{
 "cells": [
  {
   "cell_type": "code",
   "execution_count": 1,
   "metadata": {},
   "outputs": [],
   "source": [
    "import pandas as pd\n",
    "import re\n",
    "import os\n",
    "import numpy as np\n",
    "import datetime"
   ]
  },
  {
   "cell_type": "code",
   "execution_count": 34,
   "metadata": {},
   "outputs": [],
   "source": [
    "csv_list = []\n",
    "LUIGI_LOG_PATH='/usr/local/trustyou/home/andream/nfs/processmining/minilogs'\n",
    "for filename in os.listdir(LUIGI_LOG_PATH):\n",
    "    if filename.endswith('.csv'):\n",
    "        log_path = LUIGI_LOG_PATH+'/'+filename\n",
    "        csv_list.append(filename)\n",
    "csv_list\n",
    "appended_df = pd.DataFrame()"
   ]
  },
  {
   "cell_type": "code",
   "execution_count": 3,
   "metadata": {},
   "outputs": [
    {
     "name": "stdout",
     "output_type": "stream",
     "text": [
      "Preprocessing...  /usr/local/trustyou/home/andream/nfs/processmining/minilogs/daily.2019-09-04_23-23-01.csv\n",
      "Preprocessing...  /usr/local/trustyou/home/andream/nfs/processmining/minilogs/daily.2019-09-09_01-34-02.csv\n",
      "Preprocessing...  /usr/local/trustyou/home/andream/nfs/processmining/minilogs/daily.2019-09-16_19-44-01.csv\n",
      "Preprocessing...  /usr/local/trustyou/home/andream/nfs/processmining/minilogs/daily.2019-09-20_12-49-01.csv\n",
      "Preprocessing...  /usr/local/trustyou/home/andream/nfs/processmining/minilogs/daily.2019-09-24_05-05-02.csv\n",
      "Preprocessing...  /usr/local/trustyou/home/andream/nfs/processmining/minilogs/daily.2019-09-11_05-40-02.csv\n",
      "Preprocessing...  /usr/local/trustyou/home/andream/nfs/processmining/minilogs/daily.2019-09-13_04-11-01.csv\n",
      "Preprocessing...  /usr/local/trustyou/home/andream/nfs/processmining/minilogs/daily.2019-09-06_20-34-01.csv\n",
      "Preprocessing...  /usr/local/trustyou/home/andream/nfs/processmining/minilogs/daily.2019-09-18_14-08-01.csv\n",
      "Preprocessing...  /usr/local/trustyou/home/andream/nfs/processmining/minilogs/daily.2019-09-15_01-41-01.csv\n",
      "Preprocessing...  /usr/local/trustyou/home/andream/nfs/processmining/minilogs/daily.2019-09-03_03-44-01.csv\n",
      "Preprocessing...  /usr/local/trustyou/home/andream/nfs/processmining/minilogs/daily.2019-09-22_07-40-01.csv\n",
      "Preprocessing...  /usr/local/trustyou/home/andream/nfs/processmining/minilogs/daily.2019-09-01_09-29-01.csv\n",
      "31469\n"
     ]
    },
    {
     "data": {
      "text/html": [
       "<div>\n",
       "<style scoped>\n",
       "    .dataframe tbody tr th:only-of-type {\n",
       "        vertical-align: middle;\n",
       "    }\n",
       "\n",
       "    .dataframe tbody tr th {\n",
       "        vertical-align: top;\n",
       "    }\n",
       "\n",
       "    .dataframe thead th {\n",
       "        text-align: right;\n",
       "    }\n",
       "</style>\n",
       "<table border=\"1\" class=\"dataframe\">\n",
       "  <thead>\n",
       "    <tr style=\"text-align: right;\">\n",
       "      <th></th>\n",
       "      <th>timestamp</th>\n",
       "      <th>task</th>\n",
       "      <th>state</th>\n",
       "      <th>source_file</th>\n",
       "    </tr>\n",
       "  </thead>\n",
       "  <tbody>\n",
       "    <tr>\n",
       "      <th>0</th>\n",
       "      <td>2019-09-04 23:23:20</td>\n",
       "      <td>AllTasks</td>\n",
       "      <td>start</td>\n",
       "      <td>daily.2019-09-04_23-23-01.csv</td>\n",
       "    </tr>\n",
       "    <tr>\n",
       "      <th>1</th>\n",
       "      <td>2019-09-04 23:35:08</td>\n",
       "      <td>DumpTask(date=2019-09-04_23-23-01, prev_date=2...</td>\n",
       "      <td>start</td>\n",
       "      <td>daily.2019-09-04_23-23-01.csv</td>\n",
       "    </tr>\n",
       "    <tr>\n",
       "      <th>2</th>\n",
       "      <td>2019-09-04 23:35:08</td>\n",
       "      <td>DumpTask(date=2019-09-04_23-23-01, prev_date=2...</td>\n",
       "      <td>start</td>\n",
       "      <td>daily.2019-09-04_23-23-01.csv</td>\n",
       "    </tr>\n",
       "    <tr>\n",
       "      <th>3</th>\n",
       "      <td>2019-09-04 23:35:08</td>\n",
       "      <td>DumpTask(date=2019-09-04_23-23-01, prev_date=2...</td>\n",
       "      <td>start</td>\n",
       "      <td>daily.2019-09-04_23-23-01.csv</td>\n",
       "    </tr>\n",
       "    <tr>\n",
       "      <th>4</th>\n",
       "      <td>2019-09-04 23:35:08</td>\n",
       "      <td>ProxySetupTask(date=2019-09-04_23-23-01, prev_...</td>\n",
       "      <td>start</td>\n",
       "      <td>daily.2019-09-04_23-23-01.csv</td>\n",
       "    </tr>\n",
       "  </tbody>\n",
       "</table>\n",
       "</div>"
      ],
      "text/plain": [
       "             timestamp                                               task  \\\n",
       "0  2019-09-04 23:23:20                                           AllTasks   \n",
       "1  2019-09-04 23:35:08  DumpTask(date=2019-09-04_23-23-01, prev_date=2...   \n",
       "2  2019-09-04 23:35:08  DumpTask(date=2019-09-04_23-23-01, prev_date=2...   \n",
       "3  2019-09-04 23:35:08  DumpTask(date=2019-09-04_23-23-01, prev_date=2...   \n",
       "4  2019-09-04 23:35:08  ProxySetupTask(date=2019-09-04_23-23-01, prev_...   \n",
       "\n",
       "   state                    source_file  \n",
       "0  start  daily.2019-09-04_23-23-01.csv  \n",
       "1  start  daily.2019-09-04_23-23-01.csv  \n",
       "2  start  daily.2019-09-04_23-23-01.csv  \n",
       "3  start  daily.2019-09-04_23-23-01.csv  \n",
       "4  start  daily.2019-09-04_23-23-01.csv  "
      ]
     },
     "execution_count": 3,
     "metadata": {},
     "output_type": "execute_result"
    }
   ],
   "source": [
    "filename='daily.2019-09-01_09-29-01.csv'\n",
    "\n",
    "for filename in os.listdir(LUIGI_LOG_PATH):\n",
    "    if filename.endswith('.csv'):\n",
    "        log_path = LUIGI_LOG_PATH+'/'+filename\n",
    "        print('Preprocessing... ',log_path)\n",
    "        df = pd.read_csv(log_path, index_col=0)\n",
    "        df = df[['timestamp','task','state']]\n",
    "        df['source_file'] = filename\n",
    "\n",
    "        df['state'][0]='start'\n",
    "        df['task'][0]='AllTasks'\n",
    "\n",
    "        df['state'][len(df)-1]='done'\n",
    "        df['task'][len(df)-1]='AllTasks'\n",
    "        \n",
    "        appended_df = appended_df.append(df)\n",
    "        continue\n",
    "    else:\n",
    "        continue\n",
    "\n",
    "print(len(appended_df))\n",
    "appended_df.head()"
   ]
  },
  {
   "cell_type": "code",
   "execution_count": 4,
   "metadata": {},
   "outputs": [],
   "source": [
    "def get_task(task_call):\n",
    "    if isinstance(task_call, float):\n",
    "        return task_call\n",
    "    return task_call.split('(')[0]"
   ]
  },
  {
   "cell_type": "code",
   "execution_count": 5,
   "metadata": {},
   "outputs": [],
   "source": [
    "df = appended_df\n",
    "df['task_call'] = df['task']\n",
    "df['task_name'] = np.where(df['task'].notnull(), df['task'].apply(get_task), df['task'])\n",
    "df = df[['task_name','state','timestamp','task_call', 'source_file']]"
   ]
  },
  {
   "cell_type": "code",
   "execution_count": 6,
   "metadata": {},
   "outputs": [],
   "source": [
    "df['start_time'] = np.where(df['state']=='start', df['timestamp'], np.nan)\n",
    "df['end_time'] = np.where(df['state']=='done', df['timestamp'], np.nan)"
   ]
  },
  {
   "cell_type": "code",
   "execution_count": 7,
   "metadata": {},
   "outputs": [
    {
     "name": "stdout",
     "output_type": "stream",
     "text": [
      "15729\n",
      "15699\n"
     ]
    }
   ],
   "source": [
    "start_df = df[df['state']=='start']\n",
    "print(len(start_df))\n",
    "\n",
    "end_df = df[df['state']=='done']\n",
    "print(len(end_df))"
   ]
  },
  {
   "cell_type": "code",
   "execution_count": 8,
   "metadata": {},
   "outputs": [
    {
     "name": "stdout",
     "output_type": "stream",
     "text": [
      "15729\n"
     ]
    }
   ],
   "source": [
    "all_df = pd.merge(start_df, end_df, on=['task_call', 'source_file'], how='outer')\n",
    "print(len(all_df))"
   ]
  },
  {
   "cell_type": "code",
   "execution_count": 9,
   "metadata": {},
   "outputs": [],
   "source": [
    "def get_duration(start_time, end_time):\n",
    "    start = datetime.datetime.strptime(start_time, '%Y-%m-%d %H:%M:%S')\n",
    "    end = datetime.datetime.strptime(end_time, '%Y-%m-%d %H:%M:%S')\n",
    "    duration = abs(end - start)\n",
    "    return duration\n",
    "#get_duration(ex['timestamp'][10],ex['timestamp'][1])"
   ]
  },
  {
   "cell_type": "code",
   "execution_count": 10,
   "metadata": {},
   "outputs": [
    {
     "name": "stdout",
     "output_type": "stream",
     "text": [
      "15711\n"
     ]
    }
   ],
   "source": [
    "all_df = all_df[all_df['start_time_x'].notnull()]\n",
    "all_df = all_df[all_df['end_time_y'].notnull()]\n",
    "print(len(all_df))"
   ]
  },
  {
   "cell_type": "code",
   "execution_count": 31,
   "metadata": {},
   "outputs": [
    {
     "name": "stdout",
     "output_type": "stream",
     "text": [
      "15711\n"
     ]
    }
   ],
   "source": [
    "all_df['start_time'] = all_df['start_time_x']\n",
    "all_df['end_time'] = all_df['end_time_y']\n",
    "all_df['duration'] = all_df.apply(lambda row: str(get_duration(row['start_time'],row['end_time'])), axis=1)\n",
    "all_df['t_duration']= all_df.apply(lambda row: (get_duration(row['start_time'],row['end_time']).total_seconds())/60/60, axis=1)\n",
    "all_df['task_name'] = all_df['task_name_x']\n",
    "\n",
    "dur_df = all_df[['task_name','duration','task_call','start_time','end_time', 'source_file', 't_duration']]\n",
    "print(len(dur_df))\n",
    "\n",
    "top_long_tasks = dur_df[dur_df['task_name']!='AllTasks']\n",
    "top_long_tasks = top_long_tasks.sort_values(by=['t_duration','task_name'], ascending=False)\n",
    "top_long_tasks = top_long_tasks.head(5000)\n",
    "\n",
    "top_long_task_calls = dur_df[dur_df['task_name']!='AllTasks']\n",
    "top_long_task_calls = top_long_task_calls.sort_values(by=['t_duration','task_call'], ascending=False)\n",
    "top_long_task_calls = top_long_task_calls.head(10)\n"
   ]
  },
  {
   "cell_type": "code",
   "execution_count": 24,
   "metadata": {},
   "outputs": [],
   "source": [
    "#for name, group in df.groupby(['task_call'],as_index=False):\n",
    "#    print(name)\n",
    "#    print(group)"
   ]
  },
  {
   "cell_type": "code",
   "execution_count": 25,
   "metadata": {},
   "outputs": [],
   "source": [
    "pd.options.display.max_colwidth = 100\n",
    "grouped = df.groupby(['task_call'],as_index=False)\n",
    "# grouped.size()"
   ]
  },
  {
   "cell_type": "code",
   "execution_count": 26,
   "metadata": {},
   "outputs": [],
   "source": [
    "import matplotlib.pyplot as plt\n",
    "import seaborn as sns"
   ]
  },
  {
   "cell_type": "code",
   "execution_count": null,
   "metadata": {},
   "outputs": [
    {
     "name": "stdout",
     "output_type": "stream",
     "text": [
      "5000\n",
      "      task_name  \\\n",
      "3486  GroupTask   \n",
      "\n",
      "                                                                                                task_call  \\\n",
      "3486  GroupTask(date=2019-09-16_19-44-01, prev_date=2019-09-15_01-41-01, chunk=01, datacenter=eu, inc=...   \n",
      "\n",
      "      t_duration  \n",
      "3486   22.866944  \n"
     ]
    }
   ],
   "source": [
    "plt.figure(figsize=(25,10))\n",
    "plt.xticks(rotation=-45)\n",
    "task_duration= top_long_tasks[['task_name','task_call','t_duration']]\n",
    "print(len(task_duration))\n",
    "print(task_duration.head(1))\n",
    "task_duration.shape\n",
    "\n",
    "# plot boxplot with seaborn\n",
    "bplot=sns.boxplot(y='t_duration', x='task_name', \n",
    "                 data=task_duration, \n",
    "                 width=0.5,\n",
    "                 palette=\"colorblind\")\n",
    " \n",
    "# add swarmplot\n",
    "bplot=sns.swarmplot(y='t_duration', x='task_name',\n",
    "              data=task_duration, \n",
    "              color='black',\n",
    "              alpha=0.75)\n",
    "\n",
    "bplot.axes.set_title(\"Top longest tasks of Daily\",\n",
    "                    fontsize=16)\n",
    " \n",
    "bplot.set_xlabel(\"Task Name\", \n",
    "                fontsize=14)\n",
    " \n",
    "bplot.set_ylabel(\"Task Duration [hrs]\",\n",
    "                fontsize=14)\n",
    " \n",
    "bplot.tick_params(labelsize=10)\n",
    "OUTPUT_PATH = log_path.split('.')[0]+'_boxplot_top_long_tasks.png'\n",
    "print('Saving plot in ',OUTPUT_PATH)\n",
    "plt.savefig(OUTPUT_PATH)"
   ]
  },
  {
   "cell_type": "code",
   "execution_count": null,
   "metadata": {},
   "outputs": [],
   "source": []
  }
 ],
 "metadata": {
  "kernelspec": {
   "display_name": "Python 3",
   "language": "python",
   "name": "python3"
  },
  "language_info": {
   "codemirror_mode": {
    "name": "ipython",
    "version": 3
   },
   "file_extension": ".py",
   "mimetype": "text/x-python",
   "name": "python",
   "nbconvert_exporter": "python",
   "pygments_lexer": "ipython3",
   "version": "3.6.5"
  }
 },
 "nbformat": 4,
 "nbformat_minor": 2
}
